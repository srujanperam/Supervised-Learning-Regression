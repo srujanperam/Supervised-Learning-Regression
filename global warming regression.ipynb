{
 "cells": [
  {
   "cell_type": "markdown",
   "metadata": {},
   "source": [
    "# Import packages"
   ]
  },
  {
   "cell_type": "code",
   "execution_count": 2,
   "metadata": {},
   "outputs": [],
   "source": [
    "import numpy as np  \n",
    "import pandas as pd  \n",
    "import matplotlib.pyplot as plt \n",
    "import seaborn as sns\n",
    "%matplotlib inline"
   ]
  },
  {
   "cell_type": "markdown",
   "metadata": {},
   "source": [
    "# Load Data"
   ]
  },
  {
   "cell_type": "code",
   "execution_count": 62,
   "metadata": {},
   "outputs": [],
   "source": [
    "df=pd.read_csv(\"GlobalWarming.csv\")"
   ]
  },
  {
   "cell_type": "markdown",
   "metadata": {},
   "source": [
    "# Data Preparation"
   ]
  },
  {
   "cell_type": "code",
   "execution_count": 5,
   "metadata": {},
   "outputs": [
    {
     "name": "stdout",
     "output_type": "stream",
     "text": [
      "<class 'pandas.core.frame.DataFrame'>\n",
      "RangeIndex: 308 entries, 0 to 307\n",
      "Data columns (total 11 columns):\n",
      "Year        308 non-null int64\n",
      "Month       308 non-null int64\n",
      "MEI         308 non-null float64\n",
      "CO2         308 non-null float64\n",
      "CH4         308 non-null float64\n",
      "N2O         308 non-null float64\n",
      "CFC-11      308 non-null float64\n",
      "CFC-12      308 non-null float64\n",
      "TSI         308 non-null float64\n",
      "Aerosols    308 non-null float64\n",
      "Temp        308 non-null float64\n",
      "dtypes: float64(9), int64(2)\n",
      "memory usage: 26.5 KB\n"
     ]
    }
   ],
   "source": [
    "df.info()"
   ]
  },
  {
   "cell_type": "code",
   "execution_count": 7,
   "metadata": {},
   "outputs": [
    {
     "data": {
      "text/plain": [
       "(308, 11)"
      ]
     },
     "execution_count": 7,
     "metadata": {},
     "output_type": "execute_result"
    }
   ],
   "source": [
    "df.shape"
   ]
  },
  {
   "cell_type": "code",
   "execution_count": 9,
   "metadata": {},
   "outputs": [
    {
     "data": {
      "text/html": [
       "<div>\n",
       "<style scoped>\n",
       "    .dataframe tbody tr th:only-of-type {\n",
       "        vertical-align: middle;\n",
       "    }\n",
       "\n",
       "    .dataframe tbody tr th {\n",
       "        vertical-align: top;\n",
       "    }\n",
       "\n",
       "    .dataframe thead th {\n",
       "        text-align: right;\n",
       "    }\n",
       "</style>\n",
       "<table border=\"1\" class=\"dataframe\">\n",
       "  <thead>\n",
       "    <tr style=\"text-align: right;\">\n",
       "      <th></th>\n",
       "      <th>count</th>\n",
       "      <th>mean</th>\n",
       "      <th>std</th>\n",
       "      <th>min</th>\n",
       "      <th>25%</th>\n",
       "      <th>50%</th>\n",
       "      <th>75%</th>\n",
       "      <th>max</th>\n",
       "    </tr>\n",
       "  </thead>\n",
       "  <tbody>\n",
       "    <tr>\n",
       "      <th>Year</th>\n",
       "      <td>308.0</td>\n",
       "      <td>1995.662338</td>\n",
       "      <td>7.423197</td>\n",
       "      <td>1983.0000</td>\n",
       "      <td>1989.00000</td>\n",
       "      <td>1996.00000</td>\n",
       "      <td>2002.00000</td>\n",
       "      <td>2008.0000</td>\n",
       "    </tr>\n",
       "    <tr>\n",
       "      <th>Month</th>\n",
       "      <td>308.0</td>\n",
       "      <td>6.551948</td>\n",
       "      <td>3.447214</td>\n",
       "      <td>1.0000</td>\n",
       "      <td>4.00000</td>\n",
       "      <td>7.00000</td>\n",
       "      <td>10.00000</td>\n",
       "      <td>12.0000</td>\n",
       "    </tr>\n",
       "    <tr>\n",
       "      <th>MEI</th>\n",
       "      <td>308.0</td>\n",
       "      <td>0.275555</td>\n",
       "      <td>0.937918</td>\n",
       "      <td>-1.6350</td>\n",
       "      <td>-0.39875</td>\n",
       "      <td>0.23750</td>\n",
       "      <td>0.83050</td>\n",
       "      <td>3.0010</td>\n",
       "    </tr>\n",
       "    <tr>\n",
       "      <th>CO2</th>\n",
       "      <td>308.0</td>\n",
       "      <td>363.226753</td>\n",
       "      <td>12.647125</td>\n",
       "      <td>340.1700</td>\n",
       "      <td>353.02000</td>\n",
       "      <td>361.73500</td>\n",
       "      <td>373.45500</td>\n",
       "      <td>388.5000</td>\n",
       "    </tr>\n",
       "    <tr>\n",
       "      <th>CH4</th>\n",
       "      <td>308.0</td>\n",
       "      <td>1749.824513</td>\n",
       "      <td>46.051678</td>\n",
       "      <td>1629.8900</td>\n",
       "      <td>1722.18250</td>\n",
       "      <td>1764.04000</td>\n",
       "      <td>1786.88500</td>\n",
       "      <td>1814.1800</td>\n",
       "    </tr>\n",
       "    <tr>\n",
       "      <th>N2O</th>\n",
       "      <td>308.0</td>\n",
       "      <td>312.391834</td>\n",
       "      <td>5.225131</td>\n",
       "      <td>303.6770</td>\n",
       "      <td>308.11150</td>\n",
       "      <td>311.50700</td>\n",
       "      <td>316.97900</td>\n",
       "      <td>322.1820</td>\n",
       "    </tr>\n",
       "    <tr>\n",
       "      <th>CFC-11</th>\n",
       "      <td>308.0</td>\n",
       "      <td>251.973068</td>\n",
       "      <td>20.231783</td>\n",
       "      <td>191.3240</td>\n",
       "      <td>246.29550</td>\n",
       "      <td>258.34400</td>\n",
       "      <td>267.03100</td>\n",
       "      <td>271.4940</td>\n",
       "    </tr>\n",
       "    <tr>\n",
       "      <th>CFC-12</th>\n",
       "      <td>308.0</td>\n",
       "      <td>497.524782</td>\n",
       "      <td>57.826899</td>\n",
       "      <td>350.1130</td>\n",
       "      <td>472.41075</td>\n",
       "      <td>528.35600</td>\n",
       "      <td>540.52425</td>\n",
       "      <td>543.8130</td>\n",
       "    </tr>\n",
       "    <tr>\n",
       "      <th>TSI</th>\n",
       "      <td>308.0</td>\n",
       "      <td>1366.070759</td>\n",
       "      <td>0.399610</td>\n",
       "      <td>1365.4261</td>\n",
       "      <td>1365.71705</td>\n",
       "      <td>1365.98090</td>\n",
       "      <td>1366.36325</td>\n",
       "      <td>1367.3162</td>\n",
       "    </tr>\n",
       "    <tr>\n",
       "      <th>Aerosols</th>\n",
       "      <td>308.0</td>\n",
       "      <td>0.016657</td>\n",
       "      <td>0.029050</td>\n",
       "      <td>0.0016</td>\n",
       "      <td>0.00280</td>\n",
       "      <td>0.00575</td>\n",
       "      <td>0.01260</td>\n",
       "      <td>0.1494</td>\n",
       "    </tr>\n",
       "    <tr>\n",
       "      <th>Temp</th>\n",
       "      <td>308.0</td>\n",
       "      <td>0.256776</td>\n",
       "      <td>0.179090</td>\n",
       "      <td>-0.2820</td>\n",
       "      <td>0.12175</td>\n",
       "      <td>0.24800</td>\n",
       "      <td>0.40725</td>\n",
       "      <td>0.7390</td>\n",
       "    </tr>\n",
       "  </tbody>\n",
       "</table>\n",
       "</div>"
      ],
      "text/plain": [
       "          count         mean        std        min         25%         50%  \\\n",
       "Year      308.0  1995.662338   7.423197  1983.0000  1989.00000  1996.00000   \n",
       "Month     308.0     6.551948   3.447214     1.0000     4.00000     7.00000   \n",
       "MEI       308.0     0.275555   0.937918    -1.6350    -0.39875     0.23750   \n",
       "CO2       308.0   363.226753  12.647125   340.1700   353.02000   361.73500   \n",
       "CH4       308.0  1749.824513  46.051678  1629.8900  1722.18250  1764.04000   \n",
       "N2O       308.0   312.391834   5.225131   303.6770   308.11150   311.50700   \n",
       "CFC-11    308.0   251.973068  20.231783   191.3240   246.29550   258.34400   \n",
       "CFC-12    308.0   497.524782  57.826899   350.1130   472.41075   528.35600   \n",
       "TSI       308.0  1366.070759   0.399610  1365.4261  1365.71705  1365.98090   \n",
       "Aerosols  308.0     0.016657   0.029050     0.0016     0.00280     0.00575   \n",
       "Temp      308.0     0.256776   0.179090    -0.2820     0.12175     0.24800   \n",
       "\n",
       "                 75%        max  \n",
       "Year      2002.00000  2008.0000  \n",
       "Month       10.00000    12.0000  \n",
       "MEI          0.83050     3.0010  \n",
       "CO2        373.45500   388.5000  \n",
       "CH4       1786.88500  1814.1800  \n",
       "N2O        316.97900   322.1820  \n",
       "CFC-11     267.03100   271.4940  \n",
       "CFC-12     540.52425   543.8130  \n",
       "TSI       1366.36325  1367.3162  \n",
       "Aerosols     0.01260     0.1494  \n",
       "Temp         0.40725     0.7390  "
      ]
     },
     "execution_count": 9,
     "metadata": {},
     "output_type": "execute_result"
    }
   ],
   "source": [
    "df.describe().T"
   ]
  },
  {
   "cell_type": "code",
   "execution_count": 63,
   "metadata": {},
   "outputs": [],
   "source": [
    "dfwmd=df.drop([\"Year\",\"Month\"],axis=1)"
   ]
  },
  {
   "cell_type": "code",
   "execution_count": 15,
   "metadata": {},
   "outputs": [
    {
     "data": {
      "text/plain": [
       "<matplotlib.axes._subplots.AxesSubplot at 0x2016e1ff400>"
      ]
     },
     "execution_count": 15,
     "metadata": {},
     "output_type": "execute_result"
    },
    {
     "data": {
      "image/png": "[encoded data removed]",
      "text/plain": [
       "<Figure size 432x288 with 2 Axes>"
      ]
     },
     "metadata": {
      "needs_background": "light"
     },
     "output_type": "display_data"
    }
   ],
   "source": [
    "sns.heatmap(dfwmd.corr(), annot=True)"
   ]
  },
  {
   "cell_type": "markdown",
   "metadata": {},
   "source": [
    "# 1\n",
    "CO2, CH4, CFC-12 and Temp are having high corelation with N2O is 0.98, 0.89, 0.84 and 0.74 respectively"
   ]
  },
  {
   "cell_type": "code",
   "execution_count": 30,
   "metadata": {},
   "outputs": [],
   "source": [
    "feautre=[]"
   ]
  },
  {
   "cell_type": "code",
   "execution_count": 31,
   "metadata": {},
   "outputs": [],
   "source": [
    "import statsmodels.api as sm\n",
    "from __future__ import print_function\n",
    "from patsy import dmatrices"
   ]
  },
  {
   "cell_type": "code",
   "execution_count": 64,
   "metadata": {},
   "outputs": [],
   "source": [
    "dfwmd = dfwmd.rename(columns={'CFC-11': 'CFC11', 'CFC-12': 'CFC12'})"
   ]
  },
  {
   "cell_type": "code",
   "execution_count": 68,
   "metadata": {},
   "outputs": [
    {
     "data": {
      "text/plain": [
       "(308, 9)"
      ]
     },
     "execution_count": 68,
     "metadata": {},
     "output_type": "execute_result"
    }
   ],
   "source": [
    "dfwmd.shape"
   ]
  },
  {
   "cell_type": "code",
   "execution_count": 71,
   "metadata": {},
   "outputs": [],
   "source": [
    "from statsmodels.formula.api import ols\n",
    "model1 = ols('Temp ~ MEI+ CO2+CH4+N2O+CFC11+CFC12+TSI+ Aerosols',data=dfwmd).fit()"
   ]
  },
  {
   "cell_type": "code",
   "execution_count": 72,
   "metadata": {},
   "outputs": [
    {
     "data": {
      "text/plain": [
       "[13454981.483446594,\n",
       " 1.225695863648046,\n",
       " 27.9961032810541,\n",
       " 19.129507584320802,\n",
       " 61.03745302018507,\n",
       " 31.829321263531924,\n",
       " 93.49818247345468,\n",
       " 1.1409763102539472,\n",
       " 1.3544700995628454]"
      ]
     },
     "execution_count": 72,
     "metadata": {},
     "output_type": "execute_result"
    }
   ],
   "source": [
    "variables = model1.model.exog\n",
    "vif = [variance_inflation_factor(variables, i) for i in range(variables.shape[1])]\n",
    "vif"
   ]
  },
  {
   "cell_type": "code",
   "execution_count": 81,
   "metadata": {},
   "outputs": [
    {
     "data": {
      "text/html": [
       "<div>\n",
       "<style scoped>\n",
       "    .dataframe tbody tr th:only-of-type {\n",
       "        vertical-align: middle;\n",
       "    }\n",
       "\n",
       "    .dataframe tbody tr th {\n",
       "        vertical-align: top;\n",
       "    }\n",
       "\n",
       "    .dataframe thead th {\n",
       "        text-align: right;\n",
       "    }\n",
       "</style>\n",
       "<table border=\"1\" class=\"dataframe\">\n",
       "  <thead>\n",
       "    <tr style=\"text-align: right;\">\n",
       "      <th></th>\n",
       "      <th>MEI</th>\n",
       "      <th>CO2</th>\n",
       "      <th>CH4</th>\n",
       "      <th>N2O</th>\n",
       "      <th>CFC11</th>\n",
       "      <th>CFC12</th>\n",
       "      <th>TSI</th>\n",
       "      <th>Aerosols</th>\n",
       "      <th>Temp</th>\n",
       "    </tr>\n",
       "  </thead>\n",
       "  <tbody>\n",
       "    <tr>\n",
       "      <th>MEI</th>\n",
       "      <td>1.000000</td>\n",
       "      <td>-0.152911</td>\n",
       "      <td>-0.105555</td>\n",
       "      <td>-0.162375</td>\n",
       "      <td>0.088171</td>\n",
       "      <td>-0.039836</td>\n",
       "      <td>-0.076826</td>\n",
       "      <td>0.352351</td>\n",
       "      <td>0.135292</td>\n",
       "    </tr>\n",
       "    <tr>\n",
       "      <th>CO2</th>\n",
       "      <td>-0.152911</td>\n",
       "      <td>1.000000</td>\n",
       "      <td>0.872253</td>\n",
       "      <td>0.981135</td>\n",
       "      <td>0.401284</td>\n",
       "      <td>0.823210</td>\n",
       "      <td>0.017867</td>\n",
       "      <td>-0.369265</td>\n",
       "      <td>0.748505</td>\n",
       "    </tr>\n",
       "    <tr>\n",
       "      <th>CH4</th>\n",
       "      <td>-0.105555</td>\n",
       "      <td>0.872253</td>\n",
       "      <td>1.000000</td>\n",
       "      <td>0.894409</td>\n",
       "      <td>0.713504</td>\n",
       "      <td>0.958237</td>\n",
       "      <td>0.146335</td>\n",
       "      <td>-0.290381</td>\n",
       "      <td>0.699697</td>\n",
       "    </tr>\n",
       "    <tr>\n",
       "      <th>N2O</th>\n",
       "      <td>-0.162375</td>\n",
       "      <td>0.981135</td>\n",
       "      <td>0.894409</td>\n",
       "      <td>1.000000</td>\n",
       "      <td>0.412155</td>\n",
       "      <td>0.839295</td>\n",
       "      <td>0.039892</td>\n",
       "      <td>-0.353499</td>\n",
       "      <td>0.743242</td>\n",
       "    </tr>\n",
       "    <tr>\n",
       "      <th>CFC11</th>\n",
       "      <td>0.088171</td>\n",
       "      <td>0.401284</td>\n",
       "      <td>0.713504</td>\n",
       "      <td>0.412155</td>\n",
       "      <td>1.000000</td>\n",
       "      <td>0.831381</td>\n",
       "      <td>0.284629</td>\n",
       "      <td>-0.032302</td>\n",
       "      <td>0.380111</td>\n",
       "    </tr>\n",
       "    <tr>\n",
       "      <th>CFC12</th>\n",
       "      <td>-0.039836</td>\n",
       "      <td>0.823210</td>\n",
       "      <td>0.958237</td>\n",
       "      <td>0.839295</td>\n",
       "      <td>0.831381</td>\n",
       "      <td>1.000000</td>\n",
       "      <td>0.189270</td>\n",
       "      <td>-0.243785</td>\n",
       "      <td>0.688944</td>\n",
       "    </tr>\n",
       "    <tr>\n",
       "      <th>TSI</th>\n",
       "      <td>-0.076826</td>\n",
       "      <td>0.017867</td>\n",
       "      <td>0.146335</td>\n",
       "      <td>0.039892</td>\n",
       "      <td>0.284629</td>\n",
       "      <td>0.189270</td>\n",
       "      <td>1.000000</td>\n",
       "      <td>0.083238</td>\n",
       "      <td>0.182186</td>\n",
       "    </tr>\n",
       "    <tr>\n",
       "      <th>Aerosols</th>\n",
       "      <td>0.352351</td>\n",
       "      <td>-0.369265</td>\n",
       "      <td>-0.290381</td>\n",
       "      <td>-0.353499</td>\n",
       "      <td>-0.032302</td>\n",
       "      <td>-0.243785</td>\n",
       "      <td>0.083238</td>\n",
       "      <td>1.000000</td>\n",
       "      <td>-0.392069</td>\n",
       "    </tr>\n",
       "    <tr>\n",
       "      <th>Temp</th>\n",
       "      <td>0.135292</td>\n",
       "      <td>0.748505</td>\n",
       "      <td>0.699697</td>\n",
       "      <td>0.743242</td>\n",
       "      <td>0.380111</td>\n",
       "      <td>0.688944</td>\n",
       "      <td>0.182186</td>\n",
       "      <td>-0.392069</td>\n",
       "      <td>1.000000</td>\n",
       "    </tr>\n",
       "  </tbody>\n",
       "</table>\n",
       "</div>"
      ],
      "text/plain": [
       "               MEI       CO2       CH4       N2O     CFC11     CFC12  \\\n",
       "MEI       1.000000 -0.152911 -0.105555 -0.162375  0.088171 -0.039836   \n",
       "CO2      -0.152911  1.000000  0.872253  0.981135  0.401284  0.823210   \n",
       "CH4      -0.105555  0.872253  1.000000  0.894409  0.713504  0.958237   \n",
       "N2O      -0.162375  0.981135  0.894409  1.000000  0.412155  0.839295   \n",
       "CFC11     0.088171  0.401284  0.713504  0.412155  1.000000  0.831381   \n",
       "CFC12    -0.039836  0.823210  0.958237  0.839295  0.831381  1.000000   \n",
       "TSI      -0.076826  0.017867  0.146335  0.039892  0.284629  0.189270   \n",
       "Aerosols  0.352351 -0.369265 -0.290381 -0.353499 -0.032302 -0.243785   \n",
       "Temp      0.135292  0.748505  0.699697  0.743242  0.380111  0.688944   \n",
       "\n",
       "               TSI  Aerosols      Temp  \n",
       "MEI      -0.076826  0.352351  0.135292  \n",
       "CO2       0.017867 -0.369265  0.748505  \n",
       "CH4       0.146335 -0.290381  0.699697  \n",
       "N2O       0.039892 -0.353499  0.743242  \n",
       "CFC11     0.284629 -0.032302  0.380111  \n",
       "CFC12     0.189270 -0.243785  0.688944  \n",
       "TSI       1.000000  0.083238  0.182186  \n",
       "Aerosols  0.083238  1.000000 -0.392069  \n",
       "Temp      0.182186 -0.392069  1.000000  "
      ]
     },
     "execution_count": 81,
     "metadata": {},
     "output_type": "execute_result"
    }
   ],
   "source": [
    "dfwmd.corr()"
   ]
  },
  {
   "cell_type": "markdown",
   "metadata": {},
   "source": [
    "# 3\n",
    "CO2, CH4, NO2, CFC-12 are having high corelation win dependent variable with 0.74, 0.699, 0.74, 0.688 respectively\n",
    "corelation is good when the corelation between dependent and independent variables.\n",
    "But corelation between independent variables in not good.\n",
    "\n",
    "If the corelation between dependend variable and independent variable are high then model is good \n",
    "because when we are comparing with dependent variable we can put other variables constant and compute the quantity or quality\n",
    "But if the corelation between dependent variable is high then one varible changes the other also changes which is having high\n",
    "corelation"
   ]
  },
  {
   "cell_type": "code",
   "execution_count": 138,
   "metadata": {},
   "outputs": [],
   "source": [
    "from sklearn.dummy import DummyRegressor\n",
    "from sklearn.model_selection import train_test_split\n",
    "from sklearn.preprocessing import StandardScaler"
   ]
  },
  {
   "cell_type": "code",
   "execution_count": 142,
   "metadata": {},
   "outputs": [],
   "source": [
    "dfws=dfwmd.drop(['Temp'], axis=1)"
   ]
  },
  {
   "cell_type": "code",
   "execution_count": 149,
   "metadata": {},
   "outputs": [
    {
     "data": {
      "text/plain": [
       "DummyRegressor(constant=None, quantile=None, strategy='mean')"
      ]
     },
     "execution_count": 149,
     "metadata": {},
     "output_type": "execute_result"
    }
   ],
   "source": [
    "# Create a dummy regressor\n",
    "dummy_mean = DummyRegressor(strategy='mean')\n",
    "\n",
    "# \"Train\" dummy regressor\n",
    "dummy_mean.fit(dfws, df.Temp)"
   ]
  },
  {
   "cell_type": "code",
   "execution_count": 150,
   "metadata": {},
   "outputs": [],
   "source": [
    "pr=dummy_mean.predict(dfws)"
   ]
  },
  {
   "cell_type": "code",
   "execution_count": 152,
   "metadata": {},
   "outputs": [],
   "source": [
    "sse4=np.square(pr-df.Temp).sum()"
   ]
  },
  {
   "cell_type": "code",
   "execution_count": 154,
   "metadata": {},
   "outputs": [
    {
     "data": {
      "text/plain": [
       "9.846455542207792"
      ]
     },
     "execution_count": 154,
     "metadata": {},
     "output_type": "execute_result"
    }
   ],
   "source": [
    "sse4"
   ]
  },
  {
   "cell_type": "code",
   "execution_count": 153,
   "metadata": {},
   "outputs": [],
   "source": [
    "sst4=np.square(pr-df.Temp.mean()).sum()"
   ]
  },
  {
   "cell_type": "code",
   "execution_count": 155,
   "metadata": {},
   "outputs": [
    {
     "data": {
      "text/plain": [
       "9.490982765940298e-31"
      ]
     },
     "execution_count": 155,
     "metadata": {},
     "output_type": "execute_result"
    }
   ],
   "source": [
    "sst4"
   ]
  },
  {
   "cell_type": "code",
   "execution_count": 1,
   "metadata": {},
   "outputs": [],
   "source": [
    "model2 = ols('Temp ~ CO2+N2O+CFC12+Aerosols',data=dfwmd).fit()"
   ]
  },
  {
   "cell_type": "code",
   "execution_count": 89,
   "metadata": {},
   "outputs": [
    {
     "name": "stdout",
     "output_type": "stream",
     "text": [
      "                            OLS Regression Results                            \n",
      "==============================================================================\n",
      "Dep. Variable:                   Temp   R-squared:                       0.596\n",
      "Model:                            OLS   Adj. R-squared:                  0.591\n",
      "Method:                 Least Squares   F-statistic:                     111.9\n",
      "Date:                Tue, 04 Dec 2018   Prob (F-statistic):           1.81e-58\n",
      "Time:                        15:25:04   Log-Likelihood:                 232.93\n",
      "No. Observations:                 308   AIC:                            -455.9\n",
      "Df Residuals:                     303   BIC:                            -437.2\n",
      "Df Model:                           4                                         \n",
      "Covariance Type:            nonrobust                                         \n",
      "==============================================================================\n",
      "                 coef    std err          t      P>|t|      [0.025      0.975]\n",
      "------------------------------------------------------------------------------\n",
      "Intercept     -2.9781      1.198     -2.485      0.013      -5.336      -0.620\n",
      "CO2            0.0060      0.003      2.242      0.026       0.001       0.011\n",
      "N2O            0.0022      0.007      0.320      0.749      -0.011       0.015\n",
      "CFC12          0.0008      0.000      3.673      0.000       0.000       0.001\n",
      "Aerosols      -0.9362      0.244     -3.841      0.000      -1.416      -0.457\n",
      "==============================================================================\n",
      "Omnibus:                        5.792   Durbin-Watson:                   0.555\n",
      "Prob(Omnibus):                  0.055   Jarque-Bera (JB):                6.779\n",
      "Skew:                           0.181   Prob(JB):                       0.0337\n",
      "Kurtosis:                       3.630   Cond. No.                     1.27e+05\n",
      "==============================================================================\n",
      "\n",
      "Warnings:\n",
      "[1] Standard Errors assume that the covariance matrix of the errors is correctly specified.\n",
      "[2] The condition number is large, 1.27e+05. This might indicate that there are\n",
      "strong multicollinearity or other numerical problems.\n"
     ]
    }
   ],
   "source": [
    "print(model2.summary())"
   ]
  },
  {
   "cell_type": "code",
   "execution_count": 90,
   "metadata": {},
   "outputs": [],
   "source": [
    "modelpred = model2.predict()"
   ]
  },
  {
   "cell_type": "code",
   "execution_count": 103,
   "metadata": {},
   "outputs": [],
   "source": [
    "from sklearn.metrics import mean_squared_error\n",
    "from math import sqrt \n",
    "rmse = sqrt(mean_squared_error(modelpred, df.Temp))"
   ]
  },
  {
   "cell_type": "code",
   "execution_count": 104,
   "metadata": {},
   "outputs": [
    {
     "data": {
      "text/plain": [
       "0.11358646701873876"
      ]
     },
     "execution_count": 104,
     "metadata": {},
     "output_type": "execute_result"
    }
   ],
   "source": [
    "rmse"
   ]
  },
  {
   "cell_type": "code",
   "execution_count": 100,
   "metadata": {},
   "outputs": [],
   "source": [
    "def mean_absolute_percentage_error(y_true, y_pred): \n",
    "    y_true, y_pred = np.array(y_true), np.array(y_pred)\n",
    "    return np.mean(np.abs((y_true - y_pred) / y_true)) * 100"
   ]
  },
  {
   "cell_type": "code",
   "execution_count": 101,
   "metadata": {},
   "outputs": [
    {
     "data": {
      "text/plain": [
       "72.14483876774396"
      ]
     },
     "execution_count": 101,
     "metadata": {},
     "output_type": "execute_result"
    }
   ],
   "source": [
    "mean_absolute_percentage_error(modelpred, df.Temp)"
   ]
  },
  {
   "cell_type": "code",
   "execution_count": 112,
   "metadata": {},
   "outputs": [
    {
     "data": {
      "text/plain": [
       "3.9737807308581"
      ]
     },
     "execution_count": 112,
     "metadata": {},
     "output_type": "execute_result"
    }
   ],
   "source": [
    "sse=np.square(modelpred-df.Temp).sum()\n",
    "sse"
   ]
  },
  {
   "cell_type": "markdown",
   "metadata": {},
   "source": [
    "# 5\n",
    "RMSE is 0.11<br>\n",
    "SSE is 3.973<br> \n",
    "MAPE is 72.14<br>\n",
    "R2 is 0.596"
   ]
  },
  {
   "cell_type": "code",
   "execution_count": 113,
   "metadata": {},
   "outputs": [],
   "source": [
    "sst=np.square(df.Temp-df.Temp.mean()).sum()"
   ]
  },
  {
   "cell_type": "code",
   "execution_count": 114,
   "metadata": {},
   "outputs": [],
   "source": [
    "R2=1-(sse/sst)"
   ]
  },
  {
   "cell_type": "code",
   "execution_count": 115,
   "metadata": {},
   "outputs": [
    {
     "data": {
      "text/plain": [
       "0.5964252604580297"
      ]
     },
     "execution_count": 115,
     "metadata": {},
     "output_type": "execute_result"
    }
   ],
   "source": [
    "R2"
   ]
  },
  {
   "cell_type": "markdown",
   "metadata": {},
   "source": [
    "# 6\n",
    "Above is the calculated solution to R2"
   ]
  },
  {
   "cell_type": "code",
   "execution_count": 135,
   "metadata": {},
   "outputs": [],
   "source": [
    "dfwmd['m']=modelpred"
   ]
  },
  {
   "cell_type": "code",
   "execution_count": 136,
   "metadata": {},
   "outputs": [],
   "source": [
    "co=dfwmd.m.corr(df.Temp)"
   ]
  },
  {
   "cell_type": "code",
   "execution_count": 137,
   "metadata": {},
   "outputs": [
    {
     "data": {
      "text/plain": [
       "0.5964252604580302"
      ]
     },
     "execution_count": 137,
     "metadata": {},
     "output_type": "execute_result"
    }
   ],
   "source": [
    "co**2"
   ]
  },
  {
   "cell_type": "markdown",
   "metadata": {},
   "source": [
    "# 7\n",
    "Above is the solution for R2 using corelation"
   ]
  },
  {
   "cell_type": "markdown",
   "metadata": {},
   "source": [
    "# 8\n",
    "The Null hypothesis is that coefficient of dependent variable is equal to zero i.e.., beta1=0\n",
    "In other terms their is no relation between dependent and independent variable\n",
    "\n",
    "Tha Alternative hypothesis that coefficient of dependent variable is not equal to zero i.e.., beta1!=0\n",
    "In other terms their is a relation between dependent and independent variable"
   ]
  }
 ],
 "metadata": {
  "kernelspec": {
   "display_name": "Python 3",
   "language": "python",
   "name": "python3"
  },
  "language_info": {
   "codemirror_mode": {
    "name": "ipython",
    "version": 3
   },
   "file_extension": ".py",
   "mimetype": "text/x-python",
   "name": "python",
   "nbconvert_exporter": "python",
   "pygments_lexer": "ipython3",
   "version": "3.7.1"
  }
 },
 "nbformat": 4,
 "nbformat_minor": 2
}
