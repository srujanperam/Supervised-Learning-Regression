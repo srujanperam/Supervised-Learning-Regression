{
 "cells": [
  {
   "cell_type": "code",
   "execution_count": 4,
   "metadata": {},
   "outputs": [],
   "source": [
    "import numpy as np\n",
    "import pandas as pd\n",
    "\n",
    "import warnings\n",
    "warnings.filterwarnings('ignore')"
   ]
  },
  {
   "cell_type": "markdown",
   "metadata": {},
   "source": [
    "# Read Data"
   ]
  },
  {
   "cell_type": "code",
   "execution_count": 5,
   "metadata": {
    "scrolled": true
   },
   "outputs": [],
   "source": [
    "dataHealth = pd.read_csv(\"healthcare.csv\") "
   ]
  },
  {
   "cell_type": "code",
   "execution_count": 6,
   "metadata": {},
   "outputs": [
    {
     "name": "stdout",
     "output_type": "stream",
     "text": [
      "<class 'pandas.core.frame.DataFrame'>\n",
      "RangeIndex: 1240 entries, 0 to 1239\n",
      "Data columns (total 7 columns):\n",
      "District          1240 non-null int64\n",
      "Region            1240 non-null object\n",
      "Spendtype         1240 non-null object\n",
      "PerCapGDP         1240 non-null float64\n",
      "AvgCancerSpend    1240 non-null float64\n",
      "AvgHeartSpend     1240 non-null float64\n",
      "AvgOrganSpend     1240 non-null float64\n",
      "dtypes: float64(4), int64(1), object(2)\n",
      "memory usage: 67.9+ KB\n"
     ]
    }
   ],
   "source": [
    "dataHealth.info()"
   ]
  },
  {
   "cell_type": "code",
   "execution_count": 7,
   "metadata": {},
   "outputs": [],
   "source": [
    "import matplotlib.pyplot as plt\n",
    "%matplotlib inline\n",
    "import seaborn as sns"
   ]
  },
  {
   "cell_type": "markdown",
   "metadata": {},
   "source": [
    "# Correlation, Plots"
   ]
  },
  {
   "cell_type": "code",
   "execution_count": 8,
   "metadata": {},
   "outputs": [
    {
     "data": {
      "text/html": [
       "<div>\n",
       "<style scoped>\n",
       "    .dataframe tbody tr th:only-of-type {\n",
       "        vertical-align: middle;\n",
       "    }\n",
       "\n",
       "    .dataframe tbody tr th {\n",
       "        vertical-align: top;\n",
       "    }\n",
       "\n",
       "    .dataframe thead th {\n",
       "        text-align: right;\n",
       "    }\n",
       "</style>\n",
       "<table border=\"1\" class=\"dataframe\">\n",
       "  <thead>\n",
       "    <tr style=\"text-align: right;\">\n",
       "      <th></th>\n",
       "      <th>District</th>\n",
       "      <th>PerCapGDP</th>\n",
       "      <th>AvgCancerSpend</th>\n",
       "      <th>AvgHeartSpend</th>\n",
       "      <th>AvgOrganSpend</th>\n",
       "    </tr>\n",
       "  </thead>\n",
       "  <tbody>\n",
       "    <tr>\n",
       "      <th>District</th>\n",
       "      <td>1.000000</td>\n",
       "      <td>0.260106</td>\n",
       "      <td>0.521103</td>\n",
       "      <td>0.315772</td>\n",
       "      <td>0.336290</td>\n",
       "    </tr>\n",
       "    <tr>\n",
       "      <th>PerCapGDP</th>\n",
       "      <td>0.260106</td>\n",
       "      <td>1.000000</td>\n",
       "      <td>0.779721</td>\n",
       "      <td>0.242116</td>\n",
       "      <td>0.300921</td>\n",
       "    </tr>\n",
       "    <tr>\n",
       "      <th>AvgCancerSpend</th>\n",
       "      <td>0.521103</td>\n",
       "      <td>0.779721</td>\n",
       "      <td>1.000000</td>\n",
       "      <td>0.323643</td>\n",
       "      <td>0.327478</td>\n",
       "    </tr>\n",
       "    <tr>\n",
       "      <th>AvgHeartSpend</th>\n",
       "      <td>0.315772</td>\n",
       "      <td>0.242116</td>\n",
       "      <td>0.323643</td>\n",
       "      <td>1.000000</td>\n",
       "      <td>0.350827</td>\n",
       "    </tr>\n",
       "    <tr>\n",
       "      <th>AvgOrganSpend</th>\n",
       "      <td>0.336290</td>\n",
       "      <td>0.300921</td>\n",
       "      <td>0.327478</td>\n",
       "      <td>0.350827</td>\n",
       "      <td>1.000000</td>\n",
       "    </tr>\n",
       "  </tbody>\n",
       "</table>\n",
       "</div>"
      ],
      "text/plain": [
       "                District  PerCapGDP  AvgCancerSpend  AvgHeartSpend  \\\n",
       "District        1.000000   0.260106        0.521103       0.315772   \n",
       "PerCapGDP       0.260106   1.000000        0.779721       0.242116   \n",
       "AvgCancerSpend  0.521103   0.779721        1.000000       0.323643   \n",
       "AvgHeartSpend   0.315772   0.242116        0.323643       1.000000   \n",
       "AvgOrganSpend   0.336290   0.300921        0.327478       0.350827   \n",
       "\n",
       "                AvgOrganSpend  \n",
       "District             0.336290  \n",
       "PerCapGDP            0.300921  \n",
       "AvgCancerSpend       0.327478  \n",
       "AvgHeartSpend        0.350827  \n",
       "AvgOrganSpend        1.000000  "
      ]
     },
     "execution_count": 8,
     "metadata": {},
     "output_type": "execute_result"
    }
   ],
   "source": [
    "dataHealth.corr()"
   ]
  },
  {
   "cell_type": "code",
   "execution_count": 9,
   "metadata": {},
   "outputs": [
    {
     "data": {
      "text/plain": [
       "<seaborn.axisgrid.JointGrid at 0x2875f4c4eb8>"
      ]
     },
     "execution_count": 9,
     "metadata": {},
     "output_type": "execute_result"
    },
    {
     "data": {
      "image/png": "[encoded data removed]",
      "text/plain": [
       "<Figure size 432x432 with 3 Axes>"
      ]
     },
     "metadata": {
      "needs_background": "light"
     },
     "output_type": "display_data"
    }
   ],
   "source": [
    "sns.jointplot(dataHealth.PerCapGDP, dataHealth.AvgCancerSpend )"
   ]
  },
  {
   "cell_type": "code",
   "execution_count": 10,
   "metadata": {},
   "outputs": [
    {
     "data": {
      "text/plain": [
       "<seaborn.axisgrid.JointGrid at 0x2876087b550>"
      ]
     },
     "execution_count": 10,
     "metadata": {},
     "output_type": "execute_result"
    },
    {
     "data": {
      "image/png": "[encoded data removed]",
      "text/plain": [
       "<Figure size 432x432 with 3 Axes>"
      ]
     },
     "metadata": {
      "needs_background": "light"
     },
     "output_type": "display_data"
    }
   ],
   "source": [
    "sns.jointplot(dataHealth.PerCapGDP, dataHealth.AvgHeartSpend )"
   ]
  },
  {
   "cell_type": "code",
   "execution_count": 11,
   "metadata": {},
   "outputs": [
    {
     "data": {
      "text/plain": [
       "<seaborn.axisgrid.JointGrid at 0x2876084ee80>"
      ]
     },
     "execution_count": 11,
     "metadata": {},
     "output_type": "execute_result"
    },
    {
     "data": {
      "image/png": "[encoded data removed]",
      "text/plain": [
       "<Figure size 432x432 with 3 Axes>"
      ]
     },
     "metadata": {
      "needs_background": "light"
     },
     "output_type": "display_data"
    }
   ],
   "source": [
    "sns.jointplot(dataHealth.PerCapGDP, dataHealth.AvgOrganSpend )"
   ]
  },
  {
   "cell_type": "markdown",
   "metadata": {},
   "source": [
    "# Regression"
   ]
  },
  {
   "cell_type": "code",
   "execution_count": 10,
   "metadata": {},
   "outputs": [],
   "source": [
    "import statsmodels.api as sm\n",
    "from __future__ import print_function\n",
    "from patsy import dmatrices"
   ]
  },
  {
   "cell_type": "code",
   "execution_count": 11,
   "metadata": {},
   "outputs": [],
   "source": [
    "from statsmodels.formula.api import ols\n",
    "model1 = ols('AvgCancerSpend ~ PerCapGDP', data=dataHealth).fit()"
   ]
  },
  {
   "cell_type": "code",
   "execution_count": 12,
   "metadata": {},
   "outputs": [],
   "source": [
    "model2 = ols('AvgHeartSpend ~ PerCapGDP', data=dataHealth).fit()\n",
    "model3 = ols('AvgOrganSpend ~ PerCapGDP', data=dataHealth).fit()"
   ]
  },
  {
   "cell_type": "code",
   "execution_count": 13,
   "metadata": {},
   "outputs": [
    {
     "name": "stdout",
     "output_type": "stream",
     "text": [
      "                            OLS Regression Results                            \n",
      "==============================================================================\n",
      "Dep. Variable:         AvgCancerSpend   R-squared:                       0.608\n",
      "Model:                            OLS   Adj. R-squared:                  0.608\n",
      "Method:                 Least Squares   F-statistic:                     1920.\n",
      "Date:                Tue, 30 Oct 2018   Prob (F-statistic):          5.38e-254\n",
      "Time:                        09:32:57   Log-Likelihood:                -15637.\n",
      "No. Observations:                1240   AIC:                         3.128e+04\n",
      "Df Residuals:                    1238   BIC:                         3.129e+04\n",
      "Df Model:                           1                                         \n",
      "Covariance Type:            nonrobust                                         \n",
      "==============================================================================\n",
      "                 coef    std err          t      P>|t|      [0.025      0.975]\n",
      "------------------------------------------------------------------------------\n",
      "Intercept   -4.52e+04   9193.110     -4.917      0.000   -6.32e+04   -2.72e+04\n",
      "PerCapGDP      8.7178      0.199     43.816      0.000       8.327       9.108\n",
      "==============================================================================\n",
      "Omnibus:                       41.071   Durbin-Watson:                   1.022\n",
      "Prob(Omnibus):                  0.000   Jarque-Bera (JB):               44.382\n",
      "Skew:                           0.459   Prob(JB):                     2.30e-10\n",
      "Kurtosis:                       3.120   Cond. No.                     2.06e+05\n",
      "==============================================================================\n",
      "\n",
      "Warnings:\n",
      "[1] Standard Errors assume that the covariance matrix of the errors is correctly specified.\n",
      "[2] The condition number is large, 2.06e+05. This might indicate that there are\n",
      "strong multicollinearity or other numerical problems.\n"
     ]
    }
   ],
   "source": [
    "print(model1.summary())"
   ]
  },
  {
   "cell_type": "code",
   "execution_count": 14,
   "metadata": {},
   "outputs": [
    {
     "name": "stdout",
     "output_type": "stream",
     "text": [
      "                            OLS Regression Results                            \n",
      "==============================================================================\n",
      "Dep. Variable:          AvgHeartSpend   R-squared:                       0.059\n",
      "Model:                            OLS   Adj. R-squared:                  0.058\n",
      "Method:                 Least Squares   F-statistic:                     77.09\n",
      "Date:                Tue, 30 Oct 2018   Prob (F-statistic):           5.33e-18\n",
      "Time:                        09:32:57   Log-Likelihood:                -16154.\n",
      "No. Observations:                1240   AIC:                         3.231e+04\n",
      "Df Residuals:                    1238   BIC:                         3.232e+04\n",
      "Df Model:                           1                                         \n",
      "Covariance Type:            nonrobust                                         \n",
      "==============================================================================\n",
      "                 coef    std err          t      P>|t|      [0.025      0.975]\n",
      "------------------------------------------------------------------------------\n",
      "Intercept    1.21e+05    1.4e+04      8.670      0.000    9.36e+04    1.48e+05\n",
      "PerCapGDP      2.6516      0.302      8.780      0.000       2.059       3.244\n",
      "==============================================================================\n",
      "Omnibus:                       21.034   Durbin-Watson:                   1.352\n",
      "Prob(Omnibus):                  0.000   Jarque-Bera (JB):               21.782\n",
      "Skew:                           0.324   Prob(JB):                     1.86e-05\n",
      "Kurtosis:                       3.023   Cond. No.                     2.06e+05\n",
      "==============================================================================\n",
      "\n",
      "Warnings:\n",
      "[1] Standard Errors assume that the covariance matrix of the errors is correctly specified.\n",
      "[2] The condition number is large, 2.06e+05. This might indicate that there are\n",
      "strong multicollinearity or other numerical problems.\n"
     ]
    }
   ],
   "source": [
    "print(model2.summary())"
   ]
  },
  {
   "cell_type": "code",
   "execution_count": 15,
   "metadata": {},
   "outputs": [
    {
     "name": "stdout",
     "output_type": "stream",
     "text": [
      "                            OLS Regression Results                            \n",
      "==============================================================================\n",
      "Dep. Variable:          AvgOrganSpend   R-squared:                       0.091\n",
      "Model:                            OLS   Adj. R-squared:                  0.090\n",
      "Method:                 Least Squares   F-statistic:                     123.3\n",
      "Date:                Tue, 30 Oct 2018   Prob (F-statistic):           2.27e-27\n",
      "Time:                        09:32:58   Log-Likelihood:                -15680.\n",
      "No. Observations:                1240   AIC:                         3.136e+04\n",
      "Df Residuals:                    1238   BIC:                         3.137e+04\n",
      "Df Model:                           1                                         \n",
      "Covariance Type:            nonrobust                                         \n",
      "==============================================================================\n",
      "                 coef    std err          t      P>|t|      [0.025      0.975]\n",
      "------------------------------------------------------------------------------\n",
      "Intercept   7.266e+04   9518.764      7.634      0.000     5.4e+04    9.13e+04\n",
      "PerCapGDP      2.2872      0.206     11.103      0.000       1.883       2.691\n",
      "==============================================================================\n",
      "Omnibus:                      112.279   Durbin-Watson:                   1.190\n",
      "Prob(Omnibus):                  0.000   Jarque-Bera (JB):              242.037\n",
      "Skew:                           0.554   Prob(JB):                     2.77e-53\n",
      "Kurtosis:                       4.860   Cond. No.                     2.06e+05\n",
      "==============================================================================\n",
      "\n",
      "Warnings:\n",
      "[1] Standard Errors assume that the covariance matrix of the errors is correctly specified.\n",
      "[2] The condition number is large, 2.06e+05. This might indicate that there are\n",
      "strong multicollinearity or other numerical problems.\n"
     ]
    }
   ],
   "source": [
    "print(model3.summary())"
   ]
  },
  {
   "cell_type": "code",
   "execution_count": 16,
   "metadata": {},
   "outputs": [
    {
     "name": "stdout",
     "output_type": "stream",
     "text": [
      "[432727.10362459 342283.11673075 368412.49082916 ... 458369.65275627\n",
      " 430751.44187147 437937.20863438]\n"
     ]
    }
   ],
   "source": [
    "healthpred1 = model1.predict()\n",
    "print(healthpred1)"
   ]
  },
  {
   "cell_type": "code",
   "execution_count": 17,
   "metadata": {},
   "outputs": [
    {
     "data": {
      "text/html": [
       "<div>\n",
       "<style scoped>\n",
       "    .dataframe tbody tr th:only-of-type {\n",
       "        vertical-align: middle;\n",
       "    }\n",
       "\n",
       "    .dataframe tbody tr th {\n",
       "        vertical-align: top;\n",
       "    }\n",
       "\n",
       "    .dataframe thead th {\n",
       "        text-align: right;\n",
       "    }\n",
       "</style>\n",
       "<table border=\"1\" class=\"dataframe\">\n",
       "  <thead>\n",
       "    <tr style=\"text-align: right;\">\n",
       "      <th></th>\n",
       "      <th>District</th>\n",
       "      <th>Region</th>\n",
       "      <th>Spendtype</th>\n",
       "      <th>PerCapGDP</th>\n",
       "      <th>AvgCancerSpend</th>\n",
       "      <th>AvgHeartSpend</th>\n",
       "      <th>AvgOrganSpend</th>\n",
       "      <th>healthPred1</th>\n",
       "      <th>healthRes1</th>\n",
       "    </tr>\n",
       "  </thead>\n",
       "  <tbody>\n",
       "    <tr>\n",
       "      <th>0</th>\n",
       "      <td>1</td>\n",
       "      <td>North</td>\n",
       "      <td>public</td>\n",
       "      <td>54822.32372</td>\n",
       "      <td>327230.5621</td>\n",
       "      <td>386820.15260</td>\n",
       "      <td>357833.61270</td>\n",
       "      <td>432727.103625</td>\n",
       "      <td>-105496.541525</td>\n",
       "    </tr>\n",
       "    <tr>\n",
       "      <th>1</th>\n",
       "      <td>2</td>\n",
       "      <td>North</td>\n",
       "      <td>public</td>\n",
       "      <td>44447.65969</td>\n",
       "      <td>289474.5850</td>\n",
       "      <td>441519.43650</td>\n",
       "      <td>217274.73060</td>\n",
       "      <td>342283.116731</td>\n",
       "      <td>-52808.531731</td>\n",
       "    </tr>\n",
       "    <tr>\n",
       "      <th>2</th>\n",
       "      <td>3</td>\n",
       "      <td>North</td>\n",
       "      <td>public</td>\n",
       "      <td>47444.91232</td>\n",
       "      <td>335908.4809</td>\n",
       "      <td>245678.66140</td>\n",
       "      <td>204289.50160</td>\n",
       "      <td>368412.490829</td>\n",
       "      <td>-32504.009929</td>\n",
       "    </tr>\n",
       "    <tr>\n",
       "      <th>3</th>\n",
       "      <td>4</td>\n",
       "      <td>North</td>\n",
       "      <td>public</td>\n",
       "      <td>40322.25256</td>\n",
       "      <td>310200.5836</td>\n",
       "      <td>19823.74664</td>\n",
       "      <td>36939.63255</td>\n",
       "      <td>306318.745517</td>\n",
       "      <td>3881.838083</td>\n",
       "    </tr>\n",
       "    <tr>\n",
       "      <th>4</th>\n",
       "      <td>5</td>\n",
       "      <td>North</td>\n",
       "      <td>public</td>\n",
       "      <td>49366.17764</td>\n",
       "      <td>307658.3998</td>\n",
       "      <td>176147.35100</td>\n",
       "      <td>215513.14590</td>\n",
       "      <td>385161.649638</td>\n",
       "      <td>-77503.249838</td>\n",
       "    </tr>\n",
       "  </tbody>\n",
       "</table>\n",
       "</div>"
      ],
      "text/plain": [
       "   District Region Spendtype    PerCapGDP  AvgCancerSpend  AvgHeartSpend  \\\n",
       "0         1  North    public  54822.32372     327230.5621   386820.15260   \n",
       "1         2  North    public  44447.65969     289474.5850   441519.43650   \n",
       "2         3  North    public  47444.91232     335908.4809   245678.66140   \n",
       "3         4  North    public  40322.25256     310200.5836    19823.74664   \n",
       "4         5  North    public  49366.17764     307658.3998   176147.35100   \n",
       "\n",
       "   AvgOrganSpend    healthPred1     healthRes1  \n",
       "0   357833.61270  432727.103625 -105496.541525  \n",
       "1   217274.73060  342283.116731  -52808.531731  \n",
       "2   204289.50160  368412.490829  -32504.009929  \n",
       "3    36939.63255  306318.745517    3881.838083  \n",
       "4   215513.14590  385161.649638  -77503.249838  "
      ]
     },
     "execution_count": 17,
     "metadata": {},
     "output_type": "execute_result"
    }
   ],
   "source": [
    "dataHealth['healthPred1'] = healthpred1\n",
    "dataHealth['healthRes1'] = model1.resid\n",
    "dataHealth.head()"
   ]
  },
  {
   "cell_type": "code",
   "execution_count": 18,
   "metadata": {},
   "outputs": [
    {
     "data": {
      "image/png": "[encoded data removed]",
      "text/plain": [
       "<Figure size 432x288 with 1 Axes>"
      ]
     },
     "metadata": {},
     "output_type": "display_data"
    }
   ],
   "source": [
    "import matplotlib.pyplot as plt\n",
    "\n",
    "plt.plot(dataHealth.PerCapGDP, dataHealth.AvgCancerSpend, '.')\n",
    "plt.plot(dataHealth.PerCapGDP, dataHealth.healthPred1, '-')\n",
    "plt.show()"
   ]
  },
  {
   "cell_type": "markdown",
   "metadata": {},
   "source": [
    "# Regression with Categorical Variable"
   ]
  },
  {
   "cell_type": "code",
   "execution_count": 19,
   "metadata": {},
   "outputs": [],
   "source": [
    "model2 = ols('AvgCancerSpend ~ PerCapGDP + C(Spendtype)', data=dataHealth).fit()"
   ]
  },
  {
   "cell_type": "code",
   "execution_count": 20,
   "metadata": {
    "scrolled": false
   },
   "outputs": [
    {
     "name": "stdout",
     "output_type": "stream",
     "text": [
      "                            OLS Regression Results                            \n",
      "==============================================================================\n",
      "Dep. Variable:         AvgCancerSpend   R-squared:                       0.678\n",
      "Model:                            OLS   Adj. R-squared:                  0.678\n",
      "Method:                 Least Squares   F-statistic:                     1303.\n",
      "Date:                Tue, 30 Oct 2018   Prob (F-statistic):          3.33e-305\n",
      "Time:                        09:32:59   Log-Likelihood:                -15514.\n",
      "No. Observations:                1240   AIC:                         3.103e+04\n",
      "Df Residuals:                    1237   BIC:                         3.105e+04\n",
      "Df Model:                           2                                         \n",
      "Covariance Type:            nonrobust                                         \n",
      "==========================================================================================\n",
      "                             coef    std err          t      P>|t|      [0.025      0.975]\n",
      "------------------------------------------------------------------------------------------\n",
      "Intercept              -1.454e+04   8540.324     -1.703      0.089   -3.13e+04    2213.997\n",
      "C(Spendtype)[T.public] -6.132e+04   3735.132    -16.417      0.000   -6.86e+04    -5.4e+04\n",
      "PerCapGDP                  8.7178      0.180     48.335      0.000       8.364       9.072\n",
      "==============================================================================\n",
      "Omnibus:                        1.868   Durbin-Watson:                   1.246\n",
      "Prob(Omnibus):                  0.393   Jarque-Bera (JB):                1.797\n",
      "Skew:                           0.092   Prob(JB):                        0.407\n",
      "Kurtosis:                       3.032   Cond. No.                     2.12e+05\n",
      "==============================================================================\n",
      "\n",
      "Warnings:\n",
      "[1] Standard Errors assume that the covariance matrix of the errors is correctly specified.\n",
      "[2] The condition number is large, 2.12e+05. This might indicate that there are\n",
      "strong multicollinearity or other numerical problems.\n"
     ]
    }
   ],
   "source": [
    "print(model2.summary())"
   ]
  },
  {
   "cell_type": "code",
   "execution_count": 21,
   "metadata": {},
   "outputs": [
    {
     "name": "stdout",
     "output_type": "stream",
     "text": [
      "                            OLS Regression Results                            \n",
      "==============================================================================\n",
      "Dep. Variable:         AvgCancerSpend   R-squared:                       0.850\n",
      "Model:                            OLS   Adj. R-squared:                  0.850\n",
      "Method:                 Least Squares   F-statistic:                     1404.\n",
      "Date:                Tue, 30 Oct 2018   Prob (F-statistic):               0.00\n",
      "Time:                        09:32:59   Log-Likelihood:                -15039.\n",
      "No. Observations:                1240   AIC:                         3.009e+04\n",
      "Df Residuals:                    1234   BIC:                         3.012e+04\n",
      "Df Model:                           5                                         \n",
      "Covariance Type:            nonrobust                                         \n",
      "==========================================================================================\n",
      "                             coef    std err          t      P>|t|      [0.025      0.975]\n",
      "------------------------------------------------------------------------------------------\n",
      "Intercept               2.259e+05   8783.697     25.718      0.000    2.09e+05    2.43e+05\n",
      "C(Spendtype)[T.public] -6.132e+04   2548.817    -24.059      0.000   -6.63e+04   -5.63e+04\n",
      "C(Region)[T.North]      1.371e+05   5487.445     24.993      0.000    1.26e+05    1.48e+05\n",
      "C(Region)[T.South]      2.733e+05   7763.954     35.196      0.000    2.58e+05    2.88e+05\n",
      "C(Region)[T.West]       2.226e+05   6408.504     34.742      0.000     2.1e+05    2.35e+05\n",
      "PerCapGDP                 -0.1363      0.275     -0.496      0.620      -0.676       0.403\n",
      "==============================================================================\n",
      "Omnibus:                        0.266   Durbin-Watson:                   1.065\n",
      "Prob(Omnibus):                  0.876   Jarque-Bera (JB):                0.248\n",
      "Skew:                           0.035   Prob(JB):                        0.883\n",
      "Kurtosis:                       3.003   Cond. No.                     4.72e+05\n",
      "==============================================================================\n",
      "\n",
      "Warnings:\n",
      "[1] Standard Errors assume that the covariance matrix of the errors is correctly specified.\n",
      "[2] The condition number is large, 4.72e+05. This might indicate that there are\n",
      "strong multicollinearity or other numerical problems.\n"
     ]
    }
   ],
   "source": [
    "model3 = ols('AvgCancerSpend ~ PerCapGDP + C(Spendtype) + C(Region)', data=dataHealth).fit()\n",
    "print(model3.summary())"
   ]
  },
  {
   "cell_type": "code",
   "execution_count": 22,
   "metadata": {},
   "outputs": [],
   "source": [
    "model3 = ols('AvgCancerSpend ~ PerCapGDP + C(Region)', data=dataHealth).fit()"
   ]
  },
  {
   "cell_type": "code",
   "execution_count": 23,
   "metadata": {
    "scrolled": false
   },
   "outputs": [
    {
     "name": "stdout",
     "output_type": "stream",
     "text": [
      "                            OLS Regression Results                            \n",
      "==============================================================================\n",
      "Dep. Variable:         AvgCancerSpend   R-squared:                       0.780\n",
      "Model:                            OLS   Adj. R-squared:                  0.780\n",
      "Method:                 Least Squares   F-statistic:                     1097.\n",
      "Date:                Tue, 30 Oct 2018   Prob (F-statistic):               0.00\n",
      "Time:                        09:32:59   Log-Likelihood:                -15277.\n",
      "No. Observations:                1240   AIC:                         3.056e+04\n",
      "Df Residuals:                    1235   BIC:                         3.059e+04\n",
      "Df Model:                           4                                         \n",
      "Covariance Type:            nonrobust                                         \n",
      "======================================================================================\n",
      "                         coef    std err          t      P>|t|      [0.025      0.975]\n",
      "--------------------------------------------------------------------------------------\n",
      "Intercept           1.952e+05   1.05e+04     18.542      0.000    1.75e+05    2.16e+05\n",
      "C(Region)[T.North]  1.371e+05   6648.344     20.629      0.000    1.24e+05     1.5e+05\n",
      "C(Region)[T.South]  2.733e+05   9406.461     29.050      0.000    2.55e+05    2.92e+05\n",
      "C(Region)[T.West]   2.226e+05   7764.258     28.676      0.000    2.07e+05    2.38e+05\n",
      "PerCapGDP             -0.1363      0.333     -0.409      0.683      -0.790       0.517\n",
      "==============================================================================\n",
      "Omnibus:                       12.338   Durbin-Watson:                   0.728\n",
      "Prob(Omnibus):                  0.002   Jarque-Bera (JB):               13.606\n",
      "Skew:                           0.184   Prob(JB):                      0.00111\n",
      "Kurtosis:                       3.357   Cond. No.                     4.71e+05\n",
      "==============================================================================\n",
      "\n",
      "Warnings:\n",
      "[1] Standard Errors assume that the covariance matrix of the errors is correctly specified.\n",
      "[2] The condition number is large, 4.71e+05. This might indicate that there are\n",
      "strong multicollinearity or other numerical problems.\n"
     ]
    }
   ],
   "source": [
    "print(model3.summary())"
   ]
  },
  {
   "cell_type": "code",
   "execution_count": 24,
   "metadata": {},
   "outputs": [],
   "source": [
    "model4 = ols('AvgCancerSpend ~ PerCapGDP + C(Spendtype) + C(Region) + C(Spendtype)*C(Region)', data=dataHealth).fit()"
   ]
  },
  {
   "cell_type": "code",
   "execution_count": 25,
   "metadata": {},
   "outputs": [
    {
     "name": "stdout",
     "output_type": "stream",
     "text": [
      "                            OLS Regression Results                            \n",
      "==============================================================================\n",
      "Dep. Variable:         AvgCancerSpend   R-squared:                       0.922\n",
      "Model:                            OLS   Adj. R-squared:                  0.921\n",
      "Method:                 Least Squares   F-statistic:                     1806.\n",
      "Date:                Tue, 30 Oct 2018   Prob (F-statistic):               0.00\n",
      "Time:                        09:33:00   Log-Likelihood:                -14639.\n",
      "No. Observations:                1240   AIC:                         2.930e+04\n",
      "Df Residuals:                    1231   BIC:                         2.934e+04\n",
      "Df Model:                           8                                         \n",
      "Covariance Type:            nonrobust                                         \n",
      "=============================================================================================================\n",
      "                                                coef    std err          t      P>|t|      [0.025      0.975]\n",
      "-------------------------------------------------------------------------------------------------------------\n",
      "Intercept                                  1.833e+05   6569.895     27.906      0.000     1.7e+05    1.96e+05\n",
      "C(Spendtype)[T.public]                      2.38e+04   3697.874      6.437      0.000    1.65e+04    3.11e+04\n",
      "C(Region)[T.North]                         1.751e+05   4762.635     36.765      0.000    1.66e+05    1.84e+05\n",
      "C(Region)[T.South]                         3.602e+05   6209.438     58.006      0.000    3.48e+05    3.72e+05\n",
      "C(Region)[T.West]                           2.68e+05   5333.705     50.251      0.000    2.58e+05    2.78e+05\n",
      "C(Spendtype)[T.public]:C(Region)[T.North] -7.591e+04   5229.583    -14.515      0.000   -8.62e+04   -6.56e+04\n",
      "C(Spendtype)[T.public]:C(Region)[T.South] -1.738e+05   5229.583    -33.242      0.000   -1.84e+05   -1.64e+05\n",
      "C(Spendtype)[T.public]:C(Region)[T.West]  -9.075e+04   5229.583    -17.354      0.000   -1.01e+05   -8.05e+04\n",
      "PerCapGDP                                    -0.1363      0.200     -0.683      0.495      -0.528       0.255\n",
      "==============================================================================\n",
      "Omnibus:                       14.199   Durbin-Watson:                   2.002\n",
      "Prob(Omnibus):                  0.001   Jarque-Bera (JB):               22.604\n",
      "Skew:                           0.021   Prob(JB):                     1.23e-05\n",
      "Kurtosis:                       3.660   Cond. No.                     5.11e+05\n",
      "==============================================================================\n",
      "\n",
      "Warnings:\n",
      "[1] Standard Errors assume that the covariance matrix of the errors is correctly specified.\n",
      "[2] The condition number is large, 5.11e+05. This might indicate that there are\n",
      "strong multicollinearity or other numerical problems.\n"
     ]
    }
   ],
   "source": [
    "print(model4.summary())"
   ]
  },
  {
   "cell_type": "code",
   "execution_count": null,
   "metadata": {},
   "outputs": [],
   "source": []
  },
  {
   "cell_type": "code",
   "execution_count": 26,
   "metadata": {},
   "outputs": [
    {
     "name": "stdout",
     "output_type": "stream",
     "text": [
      "                            OLS Regression Results                            \n",
      "==============================================================================\n",
      "Dep. Variable:         AvgCancerSpend   R-squared:                       0.780\n",
      "Model:                            OLS   Adj. R-squared:                  0.780\n",
      "Method:                 Least Squares   F-statistic:                     1097.\n",
      "Date:                Tue, 30 Oct 2018   Prob (F-statistic):               0.00\n",
      "Time:                        09:33:00   Log-Likelihood:                -15277.\n",
      "No. Observations:                1240   AIC:                         3.056e+04\n",
      "Df Residuals:                    1235   BIC:                         3.059e+04\n",
      "Df Model:                           4                                         \n",
      "Covariance Type:            nonrobust                                         \n",
      "======================================================================================\n",
      "                         coef    std err          t      P>|t|      [0.025      0.975]\n",
      "--------------------------------------------------------------------------------------\n",
      "Intercept           1.952e+05   1.05e+04     18.542      0.000    1.75e+05    2.16e+05\n",
      "C(Region)[T.North]  1.371e+05   6648.344     20.629      0.000    1.24e+05     1.5e+05\n",
      "C(Region)[T.South]  2.733e+05   9406.461     29.050      0.000    2.55e+05    2.92e+05\n",
      "C(Region)[T.West]   2.226e+05   7764.258     28.676      0.000    2.07e+05    2.38e+05\n",
      "PerCapGDP             -0.1363      0.333     -0.409      0.683      -0.790       0.517\n",
      "==============================================================================\n",
      "Omnibus:                       12.338   Durbin-Watson:                   0.728\n",
      "Prob(Omnibus):                  0.002   Jarque-Bera (JB):               13.606\n",
      "Skew:                           0.184   Prob(JB):                      0.00111\n",
      "Kurtosis:                       3.357   Cond. No.                     4.71e+05\n",
      "==============================================================================\n",
      "\n",
      "Warnings:\n",
      "[1] Standard Errors assume that the covariance matrix of the errors is correctly specified.\n",
      "[2] The condition number is large, 4.71e+05. This might indicate that there are\n",
      "strong multicollinearity or other numerical problems.\n"
     ]
    }
   ],
   "source": [
    "model2 = ols('AvgCancerSpend ~ PerCapGDP+C(Region)', data=dataHealth).fit()\n",
    "print(model2.summary())"
   ]
  },
  {
   "cell_type": "code",
   "execution_count": 27,
   "metadata": {},
   "outputs": [
    {
     "name": "stdout",
     "output_type": "stream",
     "text": [
      "                            OLS Regression Results                            \n",
      "==============================================================================\n",
      "Dep. Variable:          AvgHeartSpend   R-squared:                       0.091\n",
      "Model:                            OLS   Adj. R-squared:                  0.088\n",
      "Method:                 Least Squares   F-statistic:                     30.93\n",
      "Date:                Tue, 30 Oct 2018   Prob (F-statistic):           1.42e-24\n",
      "Time:                        09:33:01   Log-Likelihood:                -16132.\n",
      "No. Observations:                1240   AIC:                         3.227e+04\n",
      "Df Residuals:                    1235   BIC:                         3.230e+04\n",
      "Df Model:                           4                                         \n",
      "Covariance Type:            nonrobust                                         \n",
      "======================================================================================\n",
      "                         coef    std err          t      P>|t|      [0.025      0.975]\n",
      "--------------------------------------------------------------------------------------\n",
      "Intercept           1.906e+05    2.1e+04      9.086      0.000    1.49e+05    2.32e+05\n",
      "C(Region)[T.North]  6.276e+04   1.32e+04      4.738      0.000    3.68e+04    8.87e+04\n",
      "C(Region)[T.South]  7.737e+04   1.87e+04      4.128      0.000    4.06e+04    1.14e+05\n",
      "C(Region)[T.West]   9.548e+04   1.55e+04      6.172      0.000    6.51e+04    1.26e+05\n",
      "PerCapGDP             -0.2030      0.664     -0.306      0.760      -1.506       1.100\n",
      "==============================================================================\n",
      "Omnibus:                       19.048   Durbin-Watson:                   1.379\n",
      "Prob(Omnibus):                  0.000   Jarque-Bera (JB):               19.605\n",
      "Skew:                           0.307   Prob(JB):                     5.53e-05\n",
      "Kurtosis:                       3.038   Cond. No.                     4.71e+05\n",
      "==============================================================================\n",
      "\n",
      "Warnings:\n",
      "[1] Standard Errors assume that the covariance matrix of the errors is correctly specified.\n",
      "[2] The condition number is large, 4.71e+05. This might indicate that there are\n",
      "strong multicollinearity or other numerical problems.\n"
     ]
    }
   ],
   "source": [
    "model3 = ols('AvgHeartSpend ~ PerCapGDP + C(Region)', data=dataHealth).fit()\n",
    "print(model3.summary())"
   ]
  },
  {
   "cell_type": "code",
   "execution_count": 35,
   "metadata": {},
   "outputs": [
    {
     "name": "stdout",
     "output_type": "stream",
     "text": [
      "                            OLS Regression Results                            \n",
      "==============================================================================\n",
      "Dep. Variable:          AvgOrganSpend   R-squared:                       0.113\n",
      "Model:                            OLS   Adj. R-squared:                  0.111\n",
      "Method:                 Least Squares   F-statistic:                     39.50\n",
      "Date:                Tue, 30 Oct 2018   Prob (F-statistic):           3.66e-31\n",
      "Time:                        11:25:13   Log-Likelihood:                -15664.\n",
      "No. Observations:                1240   AIC:                         3.134e+04\n",
      "Df Residuals:                    1235   BIC:                         3.136e+04\n",
      "Df Model:                           4                                         \n",
      "Covariance Type:            nonrobust                                         \n",
      "======================================================================================\n",
      "                         coef    std err          t      P>|t|      [0.025      0.975]\n",
      "--------------------------------------------------------------------------------------\n",
      "Intercept           1.223e+05   1.44e+04      8.503      0.000    9.41e+04     1.5e+05\n",
      "C(Region)[T.North]  1.343e+04   9079.831      1.479      0.139   -4382.383    3.12e+04\n",
      "C(Region)[T.South]  5.379e+04   1.28e+04      4.187      0.000    2.86e+04     7.9e+04\n",
      "C(Region)[T.West]   4.013e+04   1.06e+04      3.784      0.000    1.93e+04    6.09e+04\n",
      "PerCapGDP              0.5893      0.455      1.295      0.196      -0.304       1.482\n",
      "==============================================================================\n",
      "Omnibus:                      128.983   Durbin-Watson:                   1.191\n",
      "Prob(Omnibus):                  0.000   Jarque-Bera (JB):              281.762\n",
      "Skew:                           0.622   Prob(JB):                     6.55e-62\n",
      "Kurtosis:                       4.976   Cond. No.                     4.71e+05\n",
      "==============================================================================\n",
      "\n",
      "Warnings:\n",
      "[1] Standard Errors assume that the covariance matrix of the errors is correctly specified.\n",
      "[2] The condition number is large, 4.71e+05. This might indicate that there are\n",
      "strong multicollinearity or other numerical problems.\n"
     ]
    }
   ],
   "source": [
    "model3 = ols('AvgOrganSpend ~ PerCapGDP + C(Region)', data=dataHealth).fit()\n",
    "print(model3.summary())"
   ]
  },
  {
   "cell_type": "code",
   "execution_count": 39,
   "metadata": {},
   "outputs": [
    {
     "name": "stdout",
     "output_type": "stream",
     "text": [
      "                            OLS Regression Results                            \n",
      "==============================================================================\n",
      "Dep. Variable:         AvgCancerSpend   R-squared:                       0.850\n",
      "Model:                            OLS   Adj. R-squared:                  0.850\n",
      "Method:                 Least Squares   F-statistic:                     1756.\n",
      "Date:                Tue, 30 Oct 2018   Prob (F-statistic):               0.00\n",
      "Time:                        11:28:03   Log-Likelihood:                -15039.\n",
      "No. Observations:                1240   AIC:                         3.009e+04\n",
      "Df Residuals:                    1235   BIC:                         3.011e+04\n",
      "Df Model:                           4                                         \n",
      "Covariance Type:            nonrobust                                         \n",
      "==========================================================================================\n",
      "                             coef    std err          t      P>|t|      [0.025      0.975]\n",
      "------------------------------------------------------------------------------------------\n",
      "Intercept               2.218e+05   2848.793     77.851      0.000    2.16e+05    2.27e+05\n",
      "C(Spendtype)[T.public] -6.132e+04   2548.038    -24.066      0.000   -6.63e+04   -5.63e+04\n",
      "C(Region)[T.North]      1.351e+05   3603.470     37.490      0.000    1.28e+05    1.42e+05\n",
      "C(Region)[T.South]      2.699e+05   3603.470     74.887      0.000    2.63e+05    2.77e+05\n",
      "C(Region)[T.West]         2.2e+05   3603.470     61.058      0.000    2.13e+05    2.27e+05\n",
      "==============================================================================\n",
      "Omnibus:                        0.274   Durbin-Watson:                   1.064\n",
      "Prob(Omnibus):                  0.872   Jarque-Bera (JB):                0.260\n",
      "Skew:                           0.035   Prob(JB):                        0.878\n",
      "Kurtosis:                       3.001   Cond. No.                         5.39\n",
      "==============================================================================\n",
      "\n",
      "Warnings:\n",
      "[1] Standard Errors assume that the covariance matrix of the errors is correctly specified.\n"
     ]
    }
   ],
   "source": [
    "model14 = ols('AvgCancerSpend ~C(Spendtype)+C(Region)', data=dataHealth).fit()\n",
    "print(model14.summary())"
   ]
  },
  {
   "cell_type": "code",
   "execution_count": 40,
   "metadata": {},
   "outputs": [
    {
     "name": "stdout",
     "output_type": "stream",
     "text": [
      "                            OLS Regression Results                            \n",
      "==============================================================================\n",
      "Dep. Variable:          AvgHeartSpend   R-squared:                       0.183\n",
      "Model:                            OLS   Adj. R-squared:                  0.181\n",
      "Method:                 Least Squares   F-statistic:                     69.37\n",
      "Date:                Tue, 30 Oct 2018   Prob (F-statistic):           5.02e-53\n",
      "Time:                        11:28:35   Log-Likelihood:                -16066.\n",
      "No. Observations:                1240   AIC:                         3.214e+04\n",
      "Df Residuals:                    1235   BIC:                         3.217e+04\n",
      "Df Model:                           4                                         \n",
      "Covariance Type:            nonrobust                                         \n",
      "==========================================================================================\n",
      "                             coef    std err          t      P>|t|      [0.025      0.975]\n",
      "------------------------------------------------------------------------------------------\n",
      "Intercept                2.19e+05   6520.093     33.584      0.000    2.06e+05    2.32e+05\n",
      "C(Spendtype)[T.public] -6.897e+04   5831.749    -11.827      0.000   -8.04e+04   -5.75e+04\n",
      "C(Region)[T.North]      5.971e+04   8247.338      7.239      0.000    4.35e+04    7.59e+04\n",
      "C(Region)[T.South]       7.23e+04   8247.338      8.766      0.000    5.61e+04    8.85e+04\n",
      "C(Region)[T.West]       9.157e+04   8247.338     11.103      0.000    7.54e+04    1.08e+05\n",
      "==============================================================================\n",
      "Omnibus:                        8.663   Durbin-Watson:                   1.532\n",
      "Prob(Omnibus):                  0.013   Jarque-Bera (JB):                8.748\n",
      "Skew:                           0.206   Prob(JB):                       0.0126\n",
      "Kurtosis:                       2.985   Cond. No.                         5.39\n",
      "==============================================================================\n",
      "\n",
      "Warnings:\n",
      "[1] Standard Errors assume that the covariance matrix of the errors is correctly specified.\n"
     ]
    }
   ],
   "source": [
    "model15 = ols('AvgHeartSpend ~C(Spendtype)+C(Region)', data=dataHealth).fit()\n",
    "print(model15.summary())"
   ]
  },
  {
   "cell_type": "code",
   "execution_count": 41,
   "metadata": {},
   "outputs": [
    {
     "name": "stdout",
     "output_type": "stream",
     "text": [
      "                            OLS Regression Results                            \n",
      "==============================================================================\n",
      "Dep. Variable:          AvgOrganSpend   R-squared:                       0.164\n",
      "Model:                            OLS   Adj. R-squared:                  0.161\n",
      "Method:                 Least Squares   F-statistic:                     60.58\n",
      "Date:                Tue, 30 Oct 2018   Prob (F-statistic):           9.19e-47\n",
      "Time:                        11:29:12   Log-Likelihood:                -15627.\n",
      "No. Observations:                1240   AIC:                         3.126e+04\n",
      "Df Residuals:                    1235   BIC:                         3.129e+04\n",
      "Df Model:                           4                                         \n",
      "Covariance Type:            nonrobust                                         \n",
      "==========================================================================================\n",
      "                             coef    std err          t      P>|t|      [0.025      0.975]\n",
      "------------------------------------------------------------------------------------------\n",
      "Intercept                1.58e+05   4578.693     34.506      0.000    1.49e+05    1.67e+05\n",
      "C(Spendtype)[T.public] -3.582e+04   4095.308     -8.748      0.000   -4.39e+04   -2.78e+04\n",
      "C(Region)[T.North]       2.23e+04   5791.640      3.850      0.000    1.09e+04    3.37e+04\n",
      "C(Region)[T.South]      6.853e+04   5791.640     11.832      0.000    5.72e+04    7.99e+04\n",
      "C(Region)[T.West]       5.148e+04   5791.640      8.889      0.000    4.01e+04    6.28e+04\n",
      "==============================================================================\n",
      "Omnibus:                      126.588   Durbin-Watson:                   1.264\n",
      "Prob(Omnibus):                  0.000   Jarque-Bera (JB):              279.182\n",
      "Skew:                           0.609   Prob(JB):                     2.38e-61\n",
      "Kurtosis:                       4.980   Cond. No.                         5.39\n",
      "==============================================================================\n",
      "\n",
      "Warnings:\n",
      "[1] Standard Errors assume that the covariance matrix of the errors is correctly specified.\n"
     ]
    }
   ],
   "source": [
    "model14 = ols('AvgOrganSpend ~C(Spendtype)+C(Region)', data=dataHealth).fit()\n",
    "print(model14.summary())"
   ]
  },
  {
   "cell_type": "code",
   "execution_count": 43,
   "metadata": {},
   "outputs": [
    {
     "name": "stdout",
     "output_type": "stream",
     "text": [
      "                            OLS Regression Results                            \n",
      "==============================================================================\n",
      "Dep. Variable:          AvgOrganSpend   R-squared:                       0.201\n",
      "Model:                            OLS   Adj. R-squared:                  0.196\n",
      "Method:                 Least Squares   F-statistic:                     44.24\n",
      "Date:                Tue, 30 Oct 2018   Prob (F-statistic):           5.37e-56\n",
      "Time:                        12:15:40   Log-Likelihood:                -15600.\n",
      "No. Observations:                1240   AIC:                         3.122e+04\n",
      "Df Residuals:                    1232   BIC:                         3.126e+04\n",
      "Df Model:                           7                                         \n",
      "Covariance Type:            nonrobust                                         \n",
      "=============================================================================================================\n",
      "                                                coef    std err          t      P>|t|      [0.025      0.975]\n",
      "-------------------------------------------------------------------------------------------------------------\n",
      "Intercept                                  1.489e+05   5669.445     26.260      0.000    1.38e+05     1.6e+05\n",
      "C(Spendtype)[T.public]                     -1.76e+04   8017.806     -2.195      0.028   -3.33e+04   -1865.752\n",
      "C(Region)[T.North]                         4.743e+04   8017.806      5.915      0.000    3.17e+04    6.32e+04\n",
      "C(Region)[T.South]                         5.761e+04   8017.806      7.186      0.000    4.19e+04    7.33e+04\n",
      "C(Region)[T.West]                          7.372e+04   8017.806      9.195      0.000     5.8e+04    8.95e+04\n",
      "C(Spendtype)[T.public]:C(Region)[T.North] -5.026e+04   1.13e+04     -4.433      0.000   -7.25e+04    -2.8e+04\n",
      "C(Spendtype)[T.public]:C(Region)[T.South]  2.183e+04   1.13e+04      1.925      0.054    -417.859    4.41e+04\n",
      "C(Spendtype)[T.public]:C(Region)[T.West]  -4.448e+04   1.13e+04     -3.923      0.000   -6.67e+04   -2.22e+04\n",
      "==============================================================================\n",
      "Omnibus:                      152.120   Durbin-Watson:                   1.320\n",
      "Prob(Omnibus):                  0.000   Jarque-Bera (JB):              395.988\n",
      "Skew:                           0.664   Prob(JB):                     1.03e-86\n",
      "Kurtosis:                       5.429   Cond. No.                         12.5\n",
      "==============================================================================\n",
      "\n",
      "Warnings:\n",
      "[1] Standard Errors assume that the covariance matrix of the errors is correctly specified.\n"
     ]
    }
   ],
   "source": [
    "model14 = ols('AvgOrganSpend ~C(Spendtype)+C(Region)+C(Spendtype)*C(Region)', data=dataHealth).fit()\n",
    "print(model14.summary())"
   ]
  },
  {
   "cell_type": "code",
   "execution_count": null,
   "metadata": {},
   "outputs": [],
   "source": []
  }
 ],
 "metadata": {
  "kernelspec": {
   "display_name": "Python 3",
   "language": "python",
   "name": "python3"
  },
  "language_info": {
   "codemirror_mode": {
    "name": "ipython",
    "version": 3
   },
   "file_extension": ".py",
   "mimetype": "text/x-python",
   "name": "python",
   "nbconvert_exporter": "python",
   "pygments_lexer": "ipython3",
   "version": "3.7.1"
  }
 },
 "nbformat": 4,
 "nbformat_minor": 2
}
