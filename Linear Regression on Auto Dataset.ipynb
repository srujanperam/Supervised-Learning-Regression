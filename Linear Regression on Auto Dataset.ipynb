{
 "cells": [
  {
   "cell_type": "markdown",
   "metadata": {},
   "source": [
    "# Read data from csv file"
   ]
  },
  {
   "cell_type": "code",
   "execution_count": 1,
   "metadata": {},
   "outputs": [],
   "source": [
    "import numpy as np\n",
    "import pandas as pd\n",
    "\n",
    "import warnings\n",
    "warnings.filterwarnings('ignore')"
   ]
  },
  {
   "cell_type": "code",
   "execution_count": 2,
   "metadata": {},
   "outputs": [],
   "source": [
    "dataAuto = pd.read_csv(\"AutoDSE.csv\")"
   ]
  },
  {
   "cell_type": "code",
   "execution_count": 3,
   "metadata": {},
   "outputs": [
    {
     "data": {
      "text/plain": [
       "pandas.core.frame.DataFrame"
      ]
     },
     "execution_count": 3,
     "metadata": {},
     "output_type": "execute_result"
    }
   ],
   "source": [
    "type(dataAuto)"
   ]
  },
  {
   "cell_type": "code",
   "execution_count": 5,
   "metadata": {},
   "outputs": [
    {
     "data": {
      "text/html": [
       "<div>\n",
       "<style scoped>\n",
       "    .dataframe tbody tr th:only-of-type {\n",
       "        vertical-align: middle;\n",
       "    }\n",
       "\n",
       "    .dataframe tbody tr th {\n",
       "        vertical-align: top;\n",
       "    }\n",
       "\n",
       "    .dataframe thead th {\n",
       "        text-align: right;\n",
       "    }\n",
       "</style>\n",
       "<table border=\"1\" class=\"dataframe\">\n",
       "  <thead>\n",
       "    <tr style=\"text-align: right;\">\n",
       "      <th></th>\n",
       "      <th>mpg</th>\n",
       "      <th>cylinders</th>\n",
       "      <th>displacement</th>\n",
       "      <th>horsepower</th>\n",
       "      <th>weight</th>\n",
       "      <th>acceleration</th>\n",
       "    </tr>\n",
       "  </thead>\n",
       "  <tbody>\n",
       "    <tr>\n",
       "      <th>0</th>\n",
       "      <td>13.0</td>\n",
       "      <td>8</td>\n",
       "      <td>360</td>\n",
       "      <td>175</td>\n",
       "      <td>3821</td>\n",
       "      <td>11.0</td>\n",
       "    </tr>\n",
       "    <tr>\n",
       "      <th>1</th>\n",
       "      <td>15.0</td>\n",
       "      <td>8</td>\n",
       "      <td>390</td>\n",
       "      <td>190</td>\n",
       "      <td>3850</td>\n",
       "      <td>8.5</td>\n",
       "    </tr>\n",
       "    <tr>\n",
       "      <th>2</th>\n",
       "      <td>17.0</td>\n",
       "      <td>8</td>\n",
       "      <td>304</td>\n",
       "      <td>150</td>\n",
       "      <td>3672</td>\n",
       "      <td>11.5</td>\n",
       "    </tr>\n",
       "    <tr>\n",
       "      <th>3</th>\n",
       "      <td>19.4</td>\n",
       "      <td>6</td>\n",
       "      <td>232</td>\n",
       "      <td>90</td>\n",
       "      <td>3210</td>\n",
       "      <td>17.2</td>\n",
       "    </tr>\n",
       "    <tr>\n",
       "      <th>4</th>\n",
       "      <td>24.3</td>\n",
       "      <td>4</td>\n",
       "      <td>151</td>\n",
       "      <td>90</td>\n",
       "      <td>3003</td>\n",
       "      <td>20.1</td>\n",
       "    </tr>\n",
       "  </tbody>\n",
       "</table>\n",
       "</div>"
      ],
      "text/plain": [
       "    mpg  cylinders  displacement  horsepower  weight  acceleration\n",
       "0  13.0          8           360         175    3821          11.0\n",
       "1  15.0          8           390         190    3850           8.5\n",
       "2  17.0          8           304         150    3672          11.5\n",
       "3  19.4          6           232          90    3210          17.2\n",
       "4  24.3          4           151          90    3003          20.1"
      ]
     },
     "execution_count": 5,
     "metadata": {},
     "output_type": "execute_result"
    }
   ],
   "source": [
    "dataAuto.head()"
   ]
  },
  {
   "cell_type": "code",
   "execution_count": 6,
   "metadata": {},
   "outputs": [
    {
     "name": "stdout",
     "output_type": "stream",
     "text": [
      "<class 'pandas.core.frame.DataFrame'>\n",
      "RangeIndex: 30 entries, 0 to 29\n",
      "Data columns (total 6 columns):\n",
      "mpg             30 non-null float64\n",
      "cylinders       30 non-null int64\n",
      "displacement    30 non-null int64\n",
      "horsepower      30 non-null int64\n",
      "weight          30 non-null int64\n",
      "acceleration    30 non-null float64\n",
      "dtypes: float64(2), int64(4)\n",
      "memory usage: 1.5 KB\n"
     ]
    }
   ],
   "source": [
    "dataAuto.info()"
   ]
  },
  {
   "cell_type": "code",
   "execution_count": 7,
   "metadata": {},
   "outputs": [],
   "source": [
    "dataAuto = dataAuto[[\"mpg\", \"cylinders\", \"displacement\", \"horsepower\", \"weight\", \"acceleration\"]]"
   ]
  },
  {
   "cell_type": "code",
   "execution_count": 8,
   "metadata": {},
   "outputs": [],
   "source": [
    "import matplotlib.pyplot as plt\n",
    "%matplotlib inline\n",
    "import seaborn as sns"
   ]
  },
  {
   "cell_type": "code",
   "execution_count": 9,
   "metadata": {},
   "outputs": [
    {
     "data": {
      "text/plain": [
       "<seaborn.axisgrid.JointGrid at 0x1a525b6a400>"
      ]
     },
     "execution_count": 9,
     "metadata": {},
     "output_type": "execute_result"
    },
    {
     "data": {
      "image/png": "[encoded data removed]",
      "text/plain": [
       "<Figure size 432x432 with 3 Axes>"
      ]
     },
     "metadata": {
      "needs_background": "light"
     },
     "output_type": "display_data"
    }
   ],
   "source": [
    "sns.jointplot(dataAuto.displacement, dataAuto.mpg )"
   ]
  },
  {
   "cell_type": "code",
   "execution_count": 10,
   "metadata": {},
   "outputs": [
    {
     "data": {
      "text/plain": [
       "<seaborn.axisgrid.JointGrid at 0x1a525f9ea20>"
      ]
     },
     "execution_count": 10,
     "metadata": {},
     "output_type": "execute_result"
    },
    {
     "data": {
      "image/png": "[encoded data removed]",
      "text/plain": [
       "<Figure size 432x432 with 3 Axes>"
      ]
     },
     "metadata": {
      "needs_background": "light"
     },
     "output_type": "display_data"
    }
   ],
   "source": [
    "sns.jointplot(dataAuto.acceleration, dataAuto.mpg )"
   ]
  },
  {
   "cell_type": "code",
   "execution_count": 11,
   "metadata": {},
   "outputs": [
    {
     "data": {
      "text/plain": [
       "-0.8577514485555104"
      ]
     },
     "execution_count": 11,
     "metadata": {},
     "output_type": "execute_result"
    }
   ],
   "source": [
    "dataAuto.displacement.corr(dataAuto.mpg)"
   ]
  },
  {
   "cell_type": "code",
   "execution_count": 12,
   "metadata": {},
   "outputs": [
    {
     "data": {
      "text/html": [
       "<div>\n",
       "<style scoped>\n",
       "    .dataframe tbody tr th:only-of-type {\n",
       "        vertical-align: middle;\n",
       "    }\n",
       "\n",
       "    .dataframe tbody tr th {\n",
       "        vertical-align: top;\n",
       "    }\n",
       "\n",
       "    .dataframe thead th {\n",
       "        text-align: right;\n",
       "    }\n",
       "</style>\n",
       "<table border=\"1\" class=\"dataframe\">\n",
       "  <thead>\n",
       "    <tr style=\"text-align: right;\">\n",
       "      <th></th>\n",
       "      <th>mpg</th>\n",
       "      <th>cylinders</th>\n",
       "      <th>displacement</th>\n",
       "      <th>horsepower</th>\n",
       "      <th>weight</th>\n",
       "      <th>acceleration</th>\n",
       "    </tr>\n",
       "  </thead>\n",
       "  <tbody>\n",
       "    <tr>\n",
       "      <th>mpg</th>\n",
       "      <td>1.000000</td>\n",
       "      <td>-0.847092</td>\n",
       "      <td>-0.857751</td>\n",
       "      <td>-0.749640</td>\n",
       "      <td>-0.777886</td>\n",
       "      <td>0.409395</td>\n",
       "    </tr>\n",
       "    <tr>\n",
       "      <th>cylinders</th>\n",
       "      <td>-0.847092</td>\n",
       "      <td>1.000000</td>\n",
       "      <td>0.940695</td>\n",
       "      <td>0.819409</td>\n",
       "      <td>0.808110</td>\n",
       "      <td>-0.547162</td>\n",
       "    </tr>\n",
       "    <tr>\n",
       "      <th>displacement</th>\n",
       "      <td>-0.857751</td>\n",
       "      <td>0.940695</td>\n",
       "      <td>1.000000</td>\n",
       "      <td>0.832935</td>\n",
       "      <td>0.826146</td>\n",
       "      <td>-0.484172</td>\n",
       "    </tr>\n",
       "    <tr>\n",
       "      <th>horsepower</th>\n",
       "      <td>-0.749640</td>\n",
       "      <td>0.819409</td>\n",
       "      <td>0.832935</td>\n",
       "      <td>1.000000</td>\n",
       "      <td>0.759247</td>\n",
       "      <td>-0.743887</td>\n",
       "    </tr>\n",
       "    <tr>\n",
       "      <th>weight</th>\n",
       "      <td>-0.777886</td>\n",
       "      <td>0.808110</td>\n",
       "      <td>0.826146</td>\n",
       "      <td>0.759247</td>\n",
       "      <td>1.000000</td>\n",
       "      <td>-0.244026</td>\n",
       "    </tr>\n",
       "    <tr>\n",
       "      <th>acceleration</th>\n",
       "      <td>0.409395</td>\n",
       "      <td>-0.547162</td>\n",
       "      <td>-0.484172</td>\n",
       "      <td>-0.743887</td>\n",
       "      <td>-0.244026</td>\n",
       "      <td>1.000000</td>\n",
       "    </tr>\n",
       "  </tbody>\n",
       "</table>\n",
       "</div>"
      ],
      "text/plain": [
       "                   mpg  cylinders  displacement  horsepower    weight  \\\n",
       "mpg           1.000000  -0.847092     -0.857751   -0.749640 -0.777886   \n",
       "cylinders    -0.847092   1.000000      0.940695    0.819409  0.808110   \n",
       "displacement -0.857751   0.940695      1.000000    0.832935  0.826146   \n",
       "horsepower   -0.749640   0.819409      0.832935    1.000000  0.759247   \n",
       "weight       -0.777886   0.808110      0.826146    0.759247  1.000000   \n",
       "acceleration  0.409395  -0.547162     -0.484172   -0.743887 -0.244026   \n",
       "\n",
       "              acceleration  \n",
       "mpg               0.409395  \n",
       "cylinders        -0.547162  \n",
       "displacement     -0.484172  \n",
       "horsepower       -0.743887  \n",
       "weight           -0.244026  \n",
       "acceleration      1.000000  "
      ]
     },
     "execution_count": 12,
     "metadata": {},
     "output_type": "execute_result"
    }
   ],
   "source": [
    "dataAuto.corr()"
   ]
  },
  {
   "cell_type": "code",
   "execution_count": 13,
   "metadata": {},
   "outputs": [
    {
     "data": {
      "text/plain": [
       "<matplotlib.axes._subplots.AxesSubplot at 0x1a5270d3e10>"
      ]
     },
     "execution_count": 13,
     "metadata": {},
     "output_type": "execute_result"
    },
    {
     "data": {
      "image/png": "[encoded data removed]",
      "text/plain": [
       "<Figure size 432x288 with 2 Axes>"
      ]
     },
     "metadata": {
      "needs_background": "light"
     },
     "output_type": "display_data"
    }
   ],
   "source": [
    "sns.heatmap(dataAuto.corr(), annot=True)"
   ]
  },
  {
   "cell_type": "markdown",
   "metadata": {},
   "source": [
    "# Simple Linear Regression: mpg on displacement"
   ]
  },
  {
   "cell_type": "code",
   "execution_count": 14,
   "metadata": {},
   "outputs": [],
   "source": [
    "import statsmodels.api as sm # Regression Library"
   ]
  },
  {
   "cell_type": "code",
   "execution_count": 17,
   "metadata": {},
   "outputs": [],
   "source": [
    "from __future__ import print_function"
   ]
  },
  {
   "cell_type": "code",
   "execution_count": 18,
   "metadata": {},
   "outputs": [],
   "source": [
    "from patsy import dmatrices"
   ]
  },
  {
   "cell_type": "code",
   "execution_count": 19,
   "metadata": {},
   "outputs": [
    {
     "data": {
      "text/plain": [
       "pandas.core.series.Series"
      ]
     },
     "execution_count": 19,
     "metadata": {},
     "output_type": "execute_result"
    }
   ],
   "source": [
    "displ = dataAuto['displacement']\n",
    "type(displ)"
   ]
  },
  {
   "cell_type": "code",
   "execution_count": 20,
   "metadata": {},
   "outputs": [],
   "source": [
    "mpg = dataAuto[['mpg']]"
   ]
  },
  {
   "cell_type": "code",
   "execution_count": 21,
   "metadata": {},
   "outputs": [],
   "source": [
    "from statsmodels.formula.api import ols\n",
    "model1 = ols('mpg ~ displ', data=dataAuto).fit() #mpg on dipl\n",
    "#ordinary least square"
   ]
  },
  {
   "cell_type": "code",
   "execution_count": 22,
   "metadata": {},
   "outputs": [
    {
     "name": "stdout",
     "output_type": "stream",
     "text": [
      "                            OLS Regression Results                            \n",
      "==============================================================================\n",
      "Dep. Variable:                    mpg   R-squared:                       0.736\n",
      "Model:                            OLS   Adj. R-squared:                  0.726\n",
      "Method:                 Least Squares   F-statistic:                     77.96\n",
      "Date:                Mon, 21 Jan 2019   Prob (F-statistic):           1.39e-09\n",
      "Time:                        21:07:08   Log-Likelihood:                -58.493\n",
      "No. Observations:                  30   AIC:                             121.0\n",
      "Df Residuals:                      28   BIC:                             123.8\n",
      "Df Model:                           1                                         \n",
      "Covariance Type:            nonrobust                                         \n",
      "==============================================================================\n",
      "                 coef    std err          t      P>|t|      [0.025      0.975]\n",
      "------------------------------------------------------------------------------\n",
      "Intercept     28.5089      1.179     24.188      0.000      26.095      30.923\n",
      "displ         -0.0418      0.005     -8.829      0.000      -0.051      -0.032\n",
      "==============================================================================\n",
      "Omnibus:                        1.392   Durbin-Watson:                   1.514\n",
      "Prob(Omnibus):                  0.499   Jarque-Bera (JB):                0.580\n",
      "Skew:                           0.311   Prob(JB):                        0.748\n",
      "Kurtosis:                       3.280   Cond. No.                         914.\n",
      "==============================================================================\n",
      "\n",
      "Warnings:\n",
      "[1] Standard Errors assume that the covariance matrix of the errors is correctly specified.\n"
     ]
    }
   ],
   "source": [
    "print(model1.summary())"
   ]
  },
  {
   "cell_type": "code",
   "execution_count": 23,
   "metadata": {},
   "outputs": [
    {
     "name": "stdout",
     "output_type": "stream",
     "text": [
      "[13.46968441 12.21642014 15.80911106 18.81694531 22.20075885 17.73078294\n",
      " 18.81694531 20.19553602 18.81694531 18.81694531 18.81694531 20.19553602\n",
      " 18.81694531 18.81694531 18.81694531 17.73078294 18.81694531 15.80911106\n",
      " 17.73078294 17.73078294 15.80911106 15.80911106 15.80911106 18.81694531\n",
      " 17.73078294 15.80911106 23.45402313 24.03887979 23.74645146 23.70467598]\n"
     ]
    }
   ],
   "source": [
    "mpgpred = model1.predict()\n",
    "print(mpgpred)"
   ]
  },
  {
   "cell_type": "code",
   "execution_count": 24,
   "metadata": {},
   "outputs": [],
   "source": [
    "dataAuto['mpgPred'] = mpgpred"
   ]
  },
  {
   "cell_type": "code",
   "execution_count": 25,
   "metadata": {},
   "outputs": [],
   "source": [
    "dataAuto['res'] = dataAuto.mpg - dataAuto.mpgPred"
   ]
  },
  {
   "cell_type": "code",
   "execution_count": 26,
   "metadata": {},
   "outputs": [
    {
     "data": {
      "text/plain": [
       "1.355952387408858e-14"
      ]
     },
     "execution_count": 26,
     "metadata": {},
     "output_type": "execute_result"
    }
   ],
   "source": [
    "dataAuto['res'].mean()"
   ]
  },
  {
   "cell_type": "code",
   "execution_count": null,
   "metadata": {},
   "outputs": [],
   "source": [
    " "
   ]
  },
  {
   "cell_type": "code",
   "execution_count": 27,
   "metadata": {},
   "outputs": [],
   "source": [
    "newData = {'displ': [350, 300, 250]}\n",
    "newData = pd.DataFrame(data=newData)"
   ]
  },
  {
   "cell_type": "code",
   "execution_count": 28,
   "metadata": {},
   "outputs": [
    {
     "name": "stdout",
     "output_type": "stream",
     "text": [
      "0    13.887439\n",
      "1    15.976213\n",
      "2    18.064987\n",
      "dtype: float64\n"
     ]
    }
   ],
   "source": [
    "mpgnewpred =  model1.predict(newData) # predict out of sample\n",
    "print(mpgnewpred)"
   ]
  },
  {
   "cell_type": "code",
   "execution_count": 29,
   "metadata": {},
   "outputs": [
    {
     "data": {
      "image/png": "[encoded data removed]",
      "text/plain": [
       "<Figure size 432x288 with 1 Axes>"
      ]
     },
     "metadata": {
      "needs_background": "light"
     },
     "output_type": "display_data"
    }
   ],
   "source": [
    "import matplotlib.pyplot as plt\n",
    "\n",
    "plt.plot(displ, mpg, '.')\n",
    "plt.plot(displ, mpgpred, '-')\n",
    "plt.show()"
   ]
  },
  {
   "cell_type": "code",
   "execution_count": 30,
   "metadata": {},
   "outputs": [
    {
     "data": {
      "text/plain": [
       "<seaborn.axisgrid.JointGrid at 0x1a527f28b38>"
      ]
     },
     "execution_count": 30,
     "metadata": {},
     "output_type": "execute_result"
    },
    {
     "data": {
      "image/png": "[encoded data removed]",
      "text/plain": [
       "<Figure size 432x432 with 3 Axes>"
      ]
     },
     "metadata": {
      "needs_background": "light"
     },
     "output_type": "display_data"
    }
   ],
   "source": [
    "sns.jointplot(dataAuto.horsepower, dataAuto.mpg )"
   ]
  },
  {
   "cell_type": "code",
   "execution_count": 31,
   "metadata": {},
   "outputs": [],
   "source": [
    "from statsmodels.stats.api import anova_lm"
   ]
  },
  {
   "cell_type": "code",
   "execution_count": 32,
   "metadata": {},
   "outputs": [],
   "source": [
    "aov_table = sm.stats.anova_lm(model1)"
   ]
  },
  {
   "cell_type": "code",
   "execution_count": 33,
   "metadata": {},
   "outputs": [
    {
     "name": "stdout",
     "output_type": "stream",
     "text": [
      "            df      sum_sq     mean_sq          F        PR(>F)\n",
      "displ      1.0  241.476175  241.476175  77.955272  1.394943e-09\n",
      "Residual  28.0   86.733491    3.097625        NaN           NaN\n"
     ]
    }
   ],
   "source": [
    "print(aov_table)"
   ]
  },
  {
   "cell_type": "markdown",
   "metadata": {},
   "source": [
    "# SLR: mpg on horsepower, weight, acceleration"
   ]
  },
  {
   "cell_type": "code",
   "execution_count": 34,
   "metadata": {},
   "outputs": [
    {
     "name": "stdout",
     "output_type": "stream",
     "text": [
      "                            OLS Regression Results                            \n",
      "==============================================================================\n",
      "Dep. Variable:                    mpg   R-squared:                       0.562\n",
      "Model:                            OLS   Adj. R-squared:                  0.546\n",
      "Method:                 Least Squares   F-statistic:                     35.92\n",
      "Date:                Mon, 21 Jan 2019   Prob (F-statistic):           1.86e-06\n",
      "Time:                        21:07:25   Log-Likelihood:                -66.073\n",
      "No. Observations:                  30   AIC:                             136.1\n",
      "Df Residuals:                      28   BIC:                             138.9\n",
      "Df Model:                           1                                         \n",
      "Covariance Type:            nonrobust                                         \n",
      "==============================================================================\n",
      "                 coef    std err          t      P>|t|      [0.025      0.975]\n",
      "------------------------------------------------------------------------------\n",
      "Intercept     28.3680      1.698     16.705      0.000      24.889      31.847\n",
      "hp            -0.0878      0.015     -5.993      0.000      -0.118      -0.058\n",
      "==============================================================================\n",
      "Omnibus:                        5.239   Durbin-Watson:                   1.186\n",
      "Prob(Omnibus):                  0.073   Jarque-Bera (JB):                3.914\n",
      "Skew:                           0.869   Prob(JB):                        0.141\n",
      "Kurtosis:                       3.337   Cond. No.                         476.\n",
      "==============================================================================\n",
      "\n",
      "Warnings:\n",
      "[1] Standard Errors assume that the covariance matrix of the errors is correctly specified.\n"
     ]
    }
   ],
   "source": [
    "hp = dataAuto[['horsepower']]\n",
    "model2 = ols('mpg ~ hp', data=dataAuto).fit()\n",
    "print(model2.summary())"
   ]
  },
  {
   "cell_type": "code",
   "execution_count": 35,
   "metadata": {},
   "outputs": [
    {
     "name": "stdout",
     "output_type": "stream",
     "text": [
      "[13.00348625 11.6865277  15.19841715 20.46625134 20.46625134 17.83233424\n",
      " 20.46625134 20.46625134 19.58827897 19.58827897 19.58827897 19.85167068\n",
      " 19.58827897 19.58827897 20.46625134 18.71030661 19.58827897 15.19841715\n",
      " 18.71030661 18.71030661 17.83233424 15.19841715 15.19841715 20.46625134\n",
      " 20.02726515 15.19841715 21.3442237  20.46625134 20.3784541  20.02726515]\n"
     ]
    }
   ],
   "source": [
    "mpghpred=model2.predict()\n",
    "print(mpghpred)"
   ]
  },
  {
   "cell_type": "code",
   "execution_count": 36,
   "metadata": {},
   "outputs": [
    {
     "name": "stdout",
     "output_type": "stream",
     "text": [
      "0    -0.003486\n",
      "1     3.313472\n",
      "2     1.801583\n",
      "3    -1.066251\n",
      "4     3.833749\n",
      "5     0.267666\n",
      "6    -0.266251\n",
      "7     0.533749\n",
      "8    -0.588279\n",
      "9    -1.588279\n",
      "10    0.411721\n",
      "11   -1.851671\n",
      "12   -1.588279\n",
      "13   -0.588279\n",
      "14    2.033749\n",
      "15   -0.710307\n",
      "16   -1.588279\n",
      "17   -1.198417\n",
      "18   -2.710307\n",
      "19   -3.710307\n",
      "20   -2.332334\n",
      "21   -0.198417\n",
      "22   -1.198417\n",
      "23   -1.466251\n",
      "24   -2.527265\n",
      "25    0.801583\n",
      "26    6.055776\n",
      "27    3.533749\n",
      "28   -0.378454\n",
      "29    2.972735\n",
      "Name: mpg, dtype: float64\n",
      "-1.3145040611561853e-13\n"
     ]
    }
   ],
   "source": [
    "mpghres=dataAuto.mpg-mpghpred\n",
    "print(mpghres)\n",
    "print(mpghres.sum())"
   ]
  },
  {
   "cell_type": "code",
   "execution_count": 37,
   "metadata": {},
   "outputs": [
    {
     "data": {
      "image/png": "[encoded data removed]",
      "text/plain": [
       "<Figure size 432x288 with 1 Axes>"
      ]
     },
     "metadata": {
      "needs_background": "light"
     },
     "output_type": "display_data"
    }
   ],
   "source": [
    "plt.plot(dataAuto.horsepower, mpg, '.')\n",
    "plt.plot(dataAuto.horsepower, mpghpred, '-')\n",
    "plt.show()"
   ]
  },
  {
   "cell_type": "code",
   "execution_count": 38,
   "metadata": {},
   "outputs": [
    {
     "name": "stdout",
     "output_type": "stream",
     "text": [
      "                            OLS Regression Results                            \n",
      "==============================================================================\n",
      "Dep. Variable:                    mpg   R-squared:                       0.605\n",
      "Model:                            OLS   Adj. R-squared:                  0.591\n",
      "Method:                 Least Squares   F-statistic:                     42.91\n",
      "Date:                Mon, 21 Jan 2019   Prob (F-statistic):           4.22e-07\n",
      "Time:                        21:07:29   Log-Likelihood:                -64.518\n",
      "No. Observations:                  30   AIC:                             133.0\n",
      "Df Residuals:                      28   BIC:                             135.8\n",
      "Df Model:                           1                                         \n",
      "Covariance Type:            nonrobust                                         \n",
      "==============================================================================\n",
      "                 coef    std err          t      P>|t|      [0.025      0.975]\n",
      "------------------------------------------------------------------------------\n",
      "Intercept     35.8456      2.678     13.387      0.000      30.361      41.330\n",
      "wt            -0.0054      0.001     -6.550      0.000      -0.007      -0.004\n",
      "==============================================================================\n",
      "Omnibus:                        6.969   Durbin-Watson:                   1.758\n",
      "Prob(Omnibus):                  0.031   Jarque-Bera (JB):                5.247\n",
      "Skew:                           0.939   Prob(JB):                       0.0726\n",
      "Kurtosis:                       3.818   Cond. No.                     2.22e+04\n",
      "==============================================================================\n",
      "\n",
      "Warnings:\n",
      "[1] Standard Errors assume that the covariance matrix of the errors is correctly specified.\n",
      "[2] The condition number is large, 2.22e+04. This might indicate that there are\n",
      "strong multicollinearity or other numerical problems.\n"
     ]
    }
   ],
   "source": [
    "wt = dataAuto[['weight']]\n",
    "model3 = ols('mpg ~ wt', data=dataAuto).fit()\n",
    "print(model3.summary())"
   ]
  },
  {
   "cell_type": "code",
   "execution_count": 39,
   "metadata": {},
   "outputs": [
    {
     "name": "stdout",
     "output_type": "stream",
     "text": [
      "            df      sum_sq     mean_sq         F    PR(>F)\n",
      "hp         1.0  184.440630  184.440630  35.92107  0.000002\n",
      "Residual  28.0  143.769037    5.134608       NaN       NaN\n"
     ]
    }
   ],
   "source": [
    "aov_table0 = sm.stats.anova_lm(model2)\n",
    "print(aov_table0)"
   ]
  },
  {
   "cell_type": "code",
   "execution_count": 40,
   "metadata": {},
   "outputs": [
    {
     "name": "stdout",
     "output_type": "stream",
     "text": [
      "                            OLS Regression Results                            \n",
      "==============================================================================\n",
      "Dep. Variable:                    mpg   R-squared:                       0.168\n",
      "Model:                            OLS   Adj. R-squared:                  0.138\n",
      "Method:                 Least Squares   F-statistic:                     5.638\n",
      "Date:                Mon, 21 Jan 2019   Prob (F-statistic):             0.0247\n",
      "Time:                        21:07:30   Log-Likelihood:                -75.703\n",
      "No. Observations:                  30   AIC:                             155.4\n",
      "Df Residuals:                      28   BIC:                             158.2\n",
      "Df Model:                           1                                         \n",
      "Covariance Type:            nonrobust                                         \n",
      "==============================================================================\n",
      "                 coef    std err          t      P>|t|      [0.025      0.975]\n",
      "------------------------------------------------------------------------------\n",
      "Intercept     10.5258      3.405      3.091      0.004       3.551      17.501\n",
      "acc            0.5309      0.224      2.374      0.025       0.073       0.989\n",
      "==============================================================================\n",
      "Omnibus:                        5.947   Durbin-Watson:                   0.885\n",
      "Prob(Omnibus):                  0.051   Jarque-Bera (JB):                4.202\n",
      "Skew:                           0.750   Prob(JB):                        0.122\n",
      "Kurtosis:                       4.055   Cond. No.                         91.3\n",
      "==============================================================================\n",
      "\n",
      "Warnings:\n",
      "[1] Standard Errors assume that the covariance matrix of the errors is correctly specified.\n"
     ]
    }
   ],
   "source": [
    "acc = dataAuto[['acceleration']]\n",
    "model4 = ols('mpg ~ acc', data=dataAuto).fit()\n",
    "print(model4.summary())"
   ]
  },
  {
   "cell_type": "markdown",
   "metadata": {},
   "source": [
    "# Multiple Regression: mpg on several predictors"
   ]
  },
  {
   "cell_type": "code",
   "execution_count": 41,
   "metadata": {},
   "outputs": [],
   "source": [
    "model5 = ols('mpg ~ horsepower + weight', data=dataAuto).fit()"
   ]
  },
  {
   "cell_type": "code",
   "execution_count": 42,
   "metadata": {},
   "outputs": [
    {
     "name": "stdout",
     "output_type": "stream",
     "text": [
      "                            OLS Regression Results                            \n",
      "==============================================================================\n",
      "Dep. Variable:                    mpg   R-squared:                       0.665\n",
      "Model:                            OLS   Adj. R-squared:                  0.640\n",
      "Method:                 Least Squares   F-statistic:                     26.78\n",
      "Date:                Mon, 21 Jan 2019   Prob (F-statistic):           3.90e-07\n",
      "Time:                        21:07:32   Log-Likelihood:                -62.059\n",
      "No. Observations:                  30   AIC:                             130.1\n",
      "Df Residuals:                      27   BIC:                             134.3\n",
      "Df Model:                           2                                         \n",
      "Covariance Type:            nonrobust                                         \n",
      "==============================================================================\n",
      "                 coef    std err          t      P>|t|      [0.025      0.975]\n",
      "------------------------------------------------------------------------------\n",
      "Intercept     34.4319      2.593     13.276      0.000      29.110      39.753\n",
      "horsepower    -0.0440      0.020     -2.193      0.037      -0.085      -0.003\n",
      "weight        -0.0034      0.001     -2.879      0.008      -0.006      -0.001\n",
      "==============================================================================\n",
      "Omnibus:                        7.519   Durbin-Watson:                   1.559\n",
      "Prob(Omnibus):                  0.023   Jarque-Bera (JB):                5.851\n",
      "Skew:                           1.007   Prob(JB):                       0.0536\n",
      "Kurtosis:                       3.791   Cond. No.                     2.29e+04\n",
      "==============================================================================\n",
      "\n",
      "Warnings:\n",
      "[1] Standard Errors assume that the covariance matrix of the errors is correctly specified.\n",
      "[2] The condition number is large, 2.29e+04. This might indicate that there are\n",
      "strong multicollinearity or other numerical problems.\n"
     ]
    }
   ],
   "source": [
    "print(model5.summary())"
   ]
  },
  {
   "cell_type": "code",
   "execution_count": 43,
   "metadata": {},
   "outputs": [],
   "source": [
    "#model6 = ols('mpg ~ cylinders + displacement + horsepower + weight + acceleration', data=dataAuto).fit()\n",
    "#model6 = ols('mpg ~ cylinders + displacement + weight + acceleration', data=dataAuto).fit()\n",
    "#model6 = ols('mpg ~ displacement + weight + acceleration', data=dataAuto).fit()\n",
    "model6 = ols('mpg ~weight + acceleration', data=dataAuto).fit()"
   ]
  },
  {
   "cell_type": "code",
   "execution_count": 44,
   "metadata": {},
   "outputs": [],
   "source": [
    "#print(model6.summary())"
   ]
  },
  {
   "cell_type": "code",
   "execution_count": 45,
   "metadata": {},
   "outputs": [],
   "source": [
    "\n",
    "aov_table = sm.stats.anova_lm(model6)\n",
    "#print(aov_table)"
   ]
  },
  {
   "cell_type": "code",
   "execution_count": 46,
   "metadata": {},
   "outputs": [],
   "source": [
    "from statsmodels.stats.outliers_influence import variance_inflation_factor"
   ]
  },
  {
   "cell_type": "code",
   "execution_count": 47,
   "metadata": {},
   "outputs": [],
   "source": [
    "variables = model6.model.exog"
   ]
  },
  {
   "cell_type": "code",
   "execution_count": 48,
   "metadata": {},
   "outputs": [],
   "source": [
    "# print(variables) "
   ]
  },
  {
   "cell_type": "code",
   "execution_count": 49,
   "metadata": {},
   "outputs": [
    {
     "data": {
      "text/plain": [
       "[106.78577806011681, 1.0633191604312853, 1.0633191604312857]"
      ]
     },
     "execution_count": 49,
     "metadata": {},
     "output_type": "execute_result"
    }
   ],
   "source": [
    "vif = [variance_inflation_factor(variables, i) for i in range(variables.shape[1])]\n",
    "vif "
   ]
  },
  {
   "cell_type": "code",
   "execution_count": 50,
   "metadata": {},
   "outputs": [
    {
     "name": "stdout",
     "output_type": "stream",
     "text": [
      "                            OLS Regression Results                            \n",
      "==============================================================================\n",
      "Dep. Variable:                    mpg   R-squared:                       0.656\n",
      "Model:                            OLS   Adj. R-squared:                  0.631\n",
      "Method:                 Least Squares   F-statistic:                     25.79\n",
      "Date:                Mon, 21 Jan 2019   Prob (F-statistic):           5.46e-07\n",
      "Time:                        21:07:38   Log-Likelihood:                -62.432\n",
      "No. Observations:                  30   AIC:                             130.9\n",
      "Df Residuals:                      27   BIC:                             135.1\n",
      "Df Model:                           2                                         \n",
      "Covariance Type:            nonrobust                                         \n",
      "================================================================================\n",
      "                   coef    std err          t      P>|t|      [0.025      0.975]\n",
      "--------------------------------------------------------------------------------\n",
      "Intercept       30.0293      3.856      7.788      0.000      22.117      37.941\n",
      "weight          -0.0050      0.001     -6.197      0.000      -0.007      -0.003\n",
      "acceleration     0.3028      0.151      2.007      0.055      -0.007       0.612\n",
      "==============================================================================\n",
      "Omnibus:                        8.921   Durbin-Watson:                   1.585\n",
      "Prob(Omnibus):                  0.012   Jarque-Bera (JB):                7.338\n",
      "Skew:                           1.009   Prob(JB):                       0.0255\n",
      "Kurtosis:                       4.340   Cond. No.                     3.36e+04\n",
      "==============================================================================\n",
      "\n",
      "Warnings:\n",
      "[1] Standard Errors assume that the covariance matrix of the errors is correctly specified.\n",
      "[2] The condition number is large, 3.36e+04. This might indicate that there are\n",
      "strong multicollinearity or other numerical problems.\n"
     ]
    }
   ],
   "source": [
    "model7 = ols('mpg ~ weight + acceleration', data=dataAuto).fit()\n",
    "print(model7.summary())"
   ]
  },
  {
   "cell_type": "markdown",
   "metadata": {},
   "source": [
    "# Transformation"
   ]
  },
  {
   "cell_type": "code",
   "execution_count": 51,
   "metadata": {},
   "outputs": [],
   "source": [
    "dataAuto['invmpg'] = 1/dataAuto.mpg "
   ]
  },
  {
   "cell_type": "code",
   "execution_count": 52,
   "metadata": {},
   "outputs": [
    {
     "name": "stdout",
     "output_type": "stream",
     "text": [
      "                            OLS Regression Results                            \n",
      "==============================================================================\n",
      "Dep. Variable:                 invmpg   R-squared:                       0.753\n",
      "Model:                            OLS   Adj. R-squared:                  0.735\n",
      "Method:                 Least Squares   F-statistic:                     41.13\n",
      "Date:                Mon, 21 Jan 2019   Prob (F-statistic):           6.38e-09\n",
      "Time:                        21:07:40   Log-Likelihood:                 117.83\n",
      "No. Observations:                  30   AIC:                            -229.7\n",
      "Df Residuals:                      27   BIC:                            -225.5\n",
      "Df Model:                           2                                         \n",
      "Covariance Type:            nonrobust                                         \n",
      "================================================================================\n",
      "                   coef    std err          t      P>|t|      [0.025      0.975]\n",
      "--------------------------------------------------------------------------------\n",
      "Intercept        0.0215      0.009      2.264      0.032       0.002       0.041\n",
      "weight        1.533e-05   1.98e-06      7.736      0.000    1.13e-05    1.94e-05\n",
      "acceleration    -0.0010      0.000     -2.702      0.012      -0.002      -0.000\n",
      "==============================================================================\n",
      "Omnibus:                        0.940   Durbin-Watson:                   1.555\n",
      "Prob(Omnibus):                  0.625   Jarque-Bera (JB):                0.872\n",
      "Skew:                          -0.196   Prob(JB):                        0.647\n",
      "Kurtosis:                       2.262   Cond. No.                     3.36e+04\n",
      "==============================================================================\n",
      "\n",
      "Warnings:\n",
      "[1] Standard Errors assume that the covariance matrix of the errors is correctly specified.\n",
      "[2] The condition number is large, 3.36e+04. This might indicate that there are\n",
      "strong multicollinearity or other numerical problems.\n"
     ]
    }
   ],
   "source": [
    "model8 = ols('invmpg ~ weight + acceleration', data=dataAuto).fit()\n",
    "print(model8.summary())"
   ]
  },
  {
   "cell_type": "markdown",
   "metadata": {},
   "source": [
    "# Residual Plot"
   ]
  },
  {
   "cell_type": "code",
   "execution_count": 53,
   "metadata": {},
   "outputs": [
    {
     "name": "stdout",
     "output_type": "stream",
     "text": [
      "[14.26653832 13.36468403 15.16246981 19.19688296 21.10930203 17.56166425\n",
      " 19.22482902 21.33904855 20.80345098 20.63448117 20.312642   20.8608238\n",
      " 20.15773712 20.37760212 19.94261036 19.31584601 18.29240086 15.16246981\n",
      " 17.33039958 17.14347758 14.44002513 14.36592213 13.45037394 19.13133056\n",
      " 19.46349718 16.50812517 21.22911605 22.27699103 21.36606874 21.10918969]\n"
     ]
    }
   ],
   "source": [
    "mpgpred7 = model7.predict()\n",
    "print(mpgpred7)"
   ]
  },
  {
   "cell_type": "code",
   "execution_count": 54,
   "metadata": {},
   "outputs": [
    {
     "name": "stdout",
     "output_type": "stream",
     "text": [
      "0    -1.266538\n",
      "1     1.635316\n",
      "2     1.837530\n",
      "3     0.203117\n",
      "4     3.190698\n",
      "5     0.538336\n",
      "6     0.975171\n",
      "7    -0.339049\n",
      "8    -1.803451\n",
      "9    -2.634481\n",
      "10   -0.312642\n",
      "11   -2.860824\n",
      "12   -2.157737\n",
      "13   -1.377602\n",
      "14    2.557390\n",
      "15   -1.315846\n",
      "16   -0.292401\n",
      "17   -1.162470\n",
      "18   -1.330400\n",
      "19   -2.143478\n",
      "20    1.059975\n",
      "21    0.634078\n",
      "22    0.549626\n",
      "23   -0.131331\n",
      "24   -1.963497\n",
      "25   -0.508125\n",
      "26    6.170884\n",
      "27    1.723009\n",
      "28   -1.366069\n",
      "29    1.890810\n",
      "dtype: float64\n"
     ]
    }
   ],
   "source": [
    "mpgres7 = model7.resid\n",
    "print(mpgres7)"
   ]
  },
  {
   "cell_type": "code",
   "execution_count": 55,
   "metadata": {},
   "outputs": [
    {
     "data": {
      "image/png": "[encoded data removed]",
      "text/plain": [
       "<Figure size 432x288 with 1 Axes>"
      ]
     },
     "metadata": {
      "needs_background": "light"
     },
     "output_type": "display_data"
    }
   ],
   "source": [
    "plt.plot(mpgpred7, mpgres7, '.')\n",
    "plt.show()"
   ]
  },
  {
   "cell_type": "code",
   "execution_count": 56,
   "metadata": {},
   "outputs": [
    {
     "data": {
      "image/png": "[encoded data removed]",
      "text/plain": [
       "<Figure size 432x288 with 1 Axes>"
      ]
     },
     "metadata": {
      "needs_background": "light"
     },
     "output_type": "display_data"
    }
   ],
   "source": [
    "mpgpred8 = model8.predict()\n",
    "mpgres8 = model8.resid\n",
    "plt.plot(mpgpred8, mpgres8, '.')\n",
    "plt.show()"
   ]
  }
 ],
 "metadata": {
  "kernelspec": {
   "display_name": "Python 3",
   "language": "python",
   "name": "python3"
  },
  "language_info": {
   "codemirror_mode": {
    "name": "ipython",
    "version": 3
   },
   "file_extension": ".py",
   "mimetype": "text/x-python",
   "name": "python",
   "nbconvert_exporter": "python",
   "pygments_lexer": "ipython3",
   "version": "3.7.1"
  }
 },
 "nbformat": 4,
 "nbformat_minor": 2
}
